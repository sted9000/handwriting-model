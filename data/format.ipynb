{
 "cells": [
  {
   "metadata": {},
   "cell_type": "code",
   "source": [
    "import os\n",
    "import random\n",
    "import yaml\n",
    "from utils import CheckboxSelector, has_formatted_data, format_iam_data, format_uim_v1_data, plot_line\n",
    "root_dir = './data'"
   ],
   "id": "50de71a6c79dfd1d",
   "outputs": [],
   "execution_count": null
  },
  {
   "metadata": {},
   "cell_type": "code",
   "source": [
    "\"\"\"\n",
    "Select formatting options\n",
    "\"\"\"\n",
    "\n",
    "# What data sources to format\n",
    "data_sources = [d for d in os.listdir(root_dir) if os.path.isdir(f'{root_dir}/{d}') and d != '__pycache__']\n",
    "data_selector = CheckboxSelector(data_sources, 'Select data sources to format')\n",
    "data_selector.display()\n",
    "\n",
    "# Do you want to overwrite existing formatted data?\n",
    "overwrite_selector = CheckboxSelector(['yes', 'no'], 'Do you want to overwrite existing formatted data?')\n",
    "overwrite_selector.display()\n",
    "\n",
    "# Do you want to view some samples after formatting?\n",
    "view_selector = CheckboxSelector(['yes', 'no'], 'Do you want to view some samples after formatting?')\n",
    "view_selector.display()\n"
   ],
   "id": "6c52d8fbdd8cb73c",
   "outputs": [],
   "execution_count": null
  },
  {
   "metadata": {},
   "cell_type": "code",
   "source": [
    "\"\"\"\n",
    "Set selections to variables\n",
    "\"\"\"\n",
    "\n",
    "data_sources = data_selector.get_selected_items()\n",
    "overwrite = overwrite_selector.get_selected_items() == ['yes']\n",
    "view_output = view_selector.get_selected_items() == ['yes']"
   ],
   "id": "9e9c4e2422751ca4",
   "outputs": [],
   "execution_count": null
  },
  {
   "metadata": {},
   "cell_type": "code",
   "source": [
    "\"\"\"\n",
    "IAM Formatting\n",
    "\"\"\"\n",
    "\n",
    "if 'IAM' in data_sources:\n",
    "    if not has_formatted_data('IAM') or overwrite:    \n",
    "        format_iam_data()  "
   ],
   "id": "a997cc3d0dc3a450",
   "outputs": [],
   "execution_count": null
  },
  {
   "metadata": {},
   "cell_type": "code",
   "source": [
    "\"\"\"\n",
    "Custom Data Formatting\n",
    "\"\"\"\n",
    "\n",
    "custom_data_sources = [d for d in data_sources if d != 'IAM']\n",
    "for data_source in custom_data_sources:\n",
    "    if not has_formatted_data(f'{root_dir}/{data_source}') or overwrite:\n",
    "        # find the data_source_type\n",
    "        with open(f'{root_dir}/{data_source}/config.yaml', 'r') as f:\n",
    "            config = yaml.safe_load(f)\n",
    "        data_source_type = config['type'] \n",
    "        \n",
    "        if data_source_type == 'uim_v1':\n",
    "            format_uim_v1_data(f'{root_dir}/{data_source}')\n",
    "        elif data_source_type == 'YOUR CUSTOM DATA TYPE':\n",
    "            # format_custom_data_type(data_source)\n",
    "            continue"
   ],
   "id": "e3acb16006978a48",
   "outputs": [],
   "execution_count": null
  },
  {
   "metadata": {},
   "cell_type": "code",
   "source": [
    "\"\"\"\n",
    "View Outputs\n",
    "\"\"\"\n",
    "\n",
    "if view_output:\n",
    "    for data_source in data_sources:\n",
    "        line_files = os.listdir(f'{root_dir}/{data_source}/lines')\n",
    "        random_line_files = random.sample(line_files, 20)\n",
    "        print(f'{data_source}------------')\n",
    "        for line_file in random_line_files:\n",
    "            plot_line(f'{root_dir}/{data_source}/lines/{line_file}')\n",
    "    \n",
    "        "
   ],
   "id": "17d158607b1ba290",
   "outputs": [],
   "execution_count": null
  },
  {
   "metadata": {},
   "cell_type": "code",
   "source": "",
   "id": "2b5dd10831af4d91",
   "outputs": [],
   "execution_count": null
  }
 ],
 "metadata": {
  "kernelspec": {
   "display_name": "Python 3",
   "language": "python",
   "name": "python3"
  },
  "language_info": {
   "codemirror_mode": {
    "name": "ipython",
    "version": 2
   },
   "file_extension": ".py",
   "mimetype": "text/x-python",
   "name": "python",
   "nbconvert_exporter": "python",
   "pygments_lexer": "ipython2",
   "version": "2.7.6"
  }
 },
 "nbformat": 4,
 "nbformat_minor": 5
}
