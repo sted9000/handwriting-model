{
 "cells": [
  {
   "metadata": {
    "ExecuteTime": {
     "end_time": "2024-07-19T18:53:51.648785Z",
     "start_time": "2024-07-19T18:53:51.642573Z"
    }
   },
   "cell_type": "code",
   "source": [
    "import os\n",
    "import pandas as pd\n",
    "import yaml\n",
    "from IPython.display import display\n",
    "from utils import CheckboxSelector, get_line_files, analyze_characters, analyze_points, \\\n",
    "    analyze_width\n",
    "root_dir = './data'"
   ],
   "id": "b7fbdef938bfce22",
   "outputs": [],
   "execution_count": 23
  },
  {
   "metadata": {
    "ExecuteTime": {
     "end_time": "2024-07-19T18:53:52.512364Z",
     "start_time": "2024-07-19T18:53:52.469028Z"
    }
   },
   "cell_type": "code",
   "source": [
    "\"\"\"\n",
    "Select directories to analyze\n",
    "\"\"\"\n",
    "\n",
    "# What data sources to format\n",
    "data_sources = [d for d in os.listdir('./data') if os.path.isdir(f'{root_dir}/{d}') and d != '__pycache__']\n",
    "data_selector = CheckboxSelector(data_sources, 'Select data sources to format')\n",
    "data_selector.display()"
   ],
   "id": "d771142bf131327b",
   "outputs": [
    {
     "name": "stdout",
     "output_type": "stream",
     "text": [
      "Select data sources to format\n"
     ]
    },
    {
     "data": {
      "text/plain": [
       "Checkbox(value=False, description='twelve_numbers')"
      ],
      "application/vnd.jupyter.widget-view+json": {
       "version_major": 2,
       "version_minor": 0,
       "model_id": "8f83dd50a9ca4a2e88c7771682605796"
      }
     },
     "metadata": {},
     "output_type": "display_data"
    },
    {
     "data": {
      "text/plain": [
       "Checkbox(value=False, description='pangram_jordan')"
      ],
      "application/vnd.jupyter.widget-view+json": {
       "version_major": 2,
       "version_minor": 0,
       "model_id": "0a220774c6b24b82872d6ef7252dfaa8"
      }
     },
     "metadata": {},
     "output_type": "display_data"
    },
    {
     "data": {
      "text/plain": [
       "Checkbox(value=False, description='fliff')"
      ],
      "application/vnd.jupyter.widget-view+json": {
       "version_major": 2,
       "version_minor": 0,
       "model_id": "1aec91649d9548b1b21c1312b030032e"
      }
     },
     "metadata": {},
     "output_type": "display_data"
    },
    {
     "data": {
      "text/plain": [
       "Checkbox(value=False, description='fortune_coins')"
      ],
      "application/vnd.jupyter.widget-view+json": {
       "version_major": 2,
       "version_minor": 0,
       "model_id": "6f4983cb8d4e453a9f952ec2307ac2f2"
      }
     },
     "metadata": {},
     "output_type": "display_data"
    },
    {
     "data": {
      "text/plain": [
       "Checkbox(value=False, description='player_name')"
      ],
      "application/vnd.jupyter.widget-view+json": {
       "version_major": 2,
       "version_minor": 0,
       "model_id": "9e9ec4bfc21544c5bf91e5bd5972c88f"
      }
     },
     "metadata": {},
     "output_type": "display_data"
    },
    {
     "data": {
      "text/plain": [
       "Checkbox(value=False, description='speech_jordan')"
      ],
      "application/vnd.jupyter.widget-view+json": {
       "version_major": 2,
       "version_minor": 0,
       "model_id": "7f6bb659e44547049baf1cbb6b41c185"
      }
     },
     "metadata": {},
     "output_type": "display_data"
    },
    {
     "data": {
      "text/plain": [
       "Checkbox(value=False, description='high5')"
      ],
      "application/vnd.jupyter.widget-view+json": {
       "version_major": 2,
       "version_minor": 0,
       "model_id": "0ecb9afd745f4801bc97858881a076b5"
      }
     },
     "metadata": {},
     "output_type": "display_data"
    },
    {
     "data": {
      "text/plain": [
       "Checkbox(value=False, description='speech')"
      ],
      "application/vnd.jupyter.widget-view+json": {
       "version_major": 2,
       "version_minor": 0,
       "model_id": "533efebe18d44ae3b8134685b7f61133"
      }
     },
     "metadata": {},
     "output_type": "display_data"
    },
    {
     "data": {
      "text/plain": [
       "Checkbox(value=False, description='special_characters')"
      ],
      "application/vnd.jupyter.widget-view+json": {
       "version_major": 2,
       "version_minor": 0,
       "model_id": "d39df8c8cc054537856a2cc875741c5b"
      }
     },
     "metadata": {},
     "output_type": "display_data"
    },
    {
     "data": {
      "text/plain": [
       "Checkbox(value=False, description='number')"
      ],
      "application/vnd.jupyter.widget-view+json": {
       "version_major": 2,
       "version_minor": 0,
       "model_id": "a8b1d86faa694295a7d5c04040396bd1"
      }
     },
     "metadata": {},
     "output_type": "display_data"
    },
    {
     "data": {
      "text/plain": [
       "Checkbox(value=False, description='IAM')"
      ],
      "application/vnd.jupyter.widget-view+json": {
       "version_major": 2,
       "version_minor": 0,
       "model_id": "1de788b482da47c88306b8df655c9180"
      }
     },
     "metadata": {},
     "output_type": "display_data"
    },
    {
     "data": {
      "text/plain": [
       "Checkbox(value=False, description='chumba_v2_jordan')"
      ],
      "application/vnd.jupyter.widget-view+json": {
       "version_major": 2,
       "version_minor": 0,
       "model_id": "152a2474a94e46b19d55345c190c7560"
      }
     },
     "metadata": {},
     "output_type": "display_data"
    },
    {
     "data": {
      "text/plain": [
       "Checkbox(value=False, description='address')"
      ],
      "application/vnd.jupyter.widget-view+json": {
       "version_major": 2,
       "version_minor": 0,
       "model_id": "3b19162998bd499f9fa916a1ad818912"
      }
     },
     "metadata": {},
     "output_type": "display_data"
    },
    {
     "data": {
      "text/plain": [
       "Checkbox(value=False, description='chumba_v2')"
      ],
      "application/vnd.jupyter.widget-view+json": {
       "version_major": 2,
       "version_minor": 0,
       "model_id": "d1aa2fad30274312bec59cb983b84189"
      }
     },
     "metadata": {},
     "output_type": "display_data"
    },
    {
     "data": {
      "text/plain": [
       "Checkbox(value=False, description='chumba')"
      ],
      "application/vnd.jupyter.widget-view+json": {
       "version_major": 2,
       "version_minor": 0,
       "model_id": "e4b4d6efa7a64f6f9216bf2ae2fdb508"
      }
     },
     "metadata": {},
     "output_type": "display_data"
    },
    {
     "data": {
      "text/plain": [
       "Checkbox(value=False, description='pangram')"
      ],
      "application/vnd.jupyter.widget-view+json": {
       "version_major": 2,
       "version_minor": 0,
       "model_id": "3e06250bad554dc78fab21819b092a87"
      }
     },
     "metadata": {},
     "output_type": "display_data"
    },
    {
     "data": {
      "text/plain": [
       "Checkbox(value=False, description='email')"
      ],
      "application/vnd.jupyter.widget-view+json": {
       "version_major": 2,
       "version_minor": 0,
       "model_id": "65f40bbe32524be3b66f9b754203f961"
      }
     },
     "metadata": {},
     "output_type": "display_data"
    }
   ],
   "execution_count": 24
  },
  {
   "metadata": {
    "ExecuteTime": {
     "end_time": "2024-07-19T18:54:07.003472Z",
     "start_time": "2024-07-19T18:54:06.997710Z"
    }
   },
   "cell_type": "code",
   "source": [
    "\"\"\"\n",
    "Set selections to variables\n",
    "\"\"\"\n",
    "\n",
    "data_sources = data_selector.get_selected_items()"
   ],
   "id": "8d0ef948a83b7ad3",
   "outputs": [],
   "execution_count": 25
  },
  {
   "metadata": {
    "ExecuteTime": {
     "end_time": "2024-07-19T18:54:09.014405Z",
     "start_time": "2024-07-19T18:54:09.006140Z"
    }
   },
   "cell_type": "code",
   "source": [
    "# Initialize the dictionary to store the data of each dataset\n",
    "data = {}\n",
    "for ds in data_sources:\n",
    "    data[ds] = {'lines': 0, 'characters': 0, 'spaces': 0, 'clean_characters': 0, 'character_dict': {}, 'points': 0, 'width': 0}"
   ],
   "id": "971c2d732c7b2973",
   "outputs": [],
   "execution_count": 26
  },
  {
   "metadata": {
    "ExecuteTime": {
     "end_time": "2024-07-19T18:54:10.777123Z",
     "start_time": "2024-07-19T18:54:10.695123Z"
    }
   },
   "cell_type": "code",
   "source": [
    "\"\"\"\n",
    "Count the lines in each dataset\n",
    "\"\"\"\n",
    "\n",
    "for ds in data_sources:\n",
    "    lines = get_line_files(root_dir, ds)\n",
    "    data[ds]['lines'] = len(lines)"
   ],
   "id": "ae0eee7c4d6b2849",
   "outputs": [],
   "execution_count": 27
  },
  {
   "metadata": {
    "ExecuteTime": {
     "end_time": "2024-07-19T18:54:15.036450Z",
     "start_time": "2024-07-19T18:54:11.722379Z"
    }
   },
   "cell_type": "code",
   "source": [
    "\"\"\"\n",
    "Analyze character counts\n",
    "\"\"\"\n",
    "for ds in data_sources:\n",
    "    \n",
    "    # analyze the characters in the transcript\n",
    "    characters, spaces, clean_characters, character_dict = analyze_characters(root_dir, ds)\n",
    "            \n",
    "    # update the data dictionary\n",
    "    data[ds]['characters'] = characters\n",
    "    data[ds]['spaces'] = spaces\n",
    "    data[ds]['clean_characters'] = clean_characters\n",
    "    # convert defaultdict to dict\n",
    "    character_dict = dict(character_dict)\n",
    "    data[ds]['character_dict'] = character_dict"
   ],
   "id": "2674a34825e51abd",
   "outputs": [],
   "execution_count": 28
  },
  {
   "metadata": {
    "ExecuteTime": {
     "end_time": "2024-07-19T18:54:23.205073Z",
     "start_time": "2024-07-19T18:54:19.930891Z"
    }
   },
   "cell_type": "code",
   "source": [
    "\"\"\"\n",
    "Analyze points per character\n",
    "\"\"\"\n",
    "for ds in data_sources:\n",
    "    \n",
    "    # analyze the points in the strokes\n",
    "    points = analyze_points(root_dir, ds)           \n",
    "\n",
    "    # update the data dictionary\n",
    "    data[ds]['points'] = points"
   ],
   "id": "fb9934cda0d3b199",
   "outputs": [],
   "execution_count": 29
  },
  {
   "metadata": {
    "ExecuteTime": {
     "end_time": "2024-07-19T18:54:27.661476Z",
     "start_time": "2024-07-19T18:54:24.287717Z"
    }
   },
   "cell_type": "code",
   "source": [
    "\"\"\"\n",
    "Analyse the width per character\n",
    "\"\"\"\n",
    "for ds in data_sources:\n",
    "    \n",
    "    # analyze the width of the strokes\n",
    "    width = analyze_width(root_dir, ds)\n",
    "    \n",
    "    # update the data dictionary\n",
    "    data[ds]['width'] = width"
   ],
   "id": "c904f68ae9907072",
   "outputs": [],
   "execution_count": 30
  },
  {
   "metadata": {
    "ExecuteTime": {
     "end_time": "2024-07-19T18:54:30.577739Z",
     "start_time": "2024-07-19T18:54:30.573356Z"
    }
   },
   "cell_type": "code",
   "source": [
    "\"\"\"\n",
    "Basic Calcs on the data\n",
    "\"\"\"\n",
    "\n",
    "for ds in data_sources:\n",
    "    data[ds]['points_per_char'] = data[ds]['points'] / data[ds]['characters']\n",
    "    data[ds]['points_per_clean_char'] = data[ds]['points'] / data[ds]['clean_characters']\n",
    "    data[ds]['width_per_char'] = data[ds]['width'] / data[ds]['characters']\n",
    "    data[ds]['width_per_clean_char'] = data[ds]['width'] / data[ds]['clean_characters']\n",
    "    data[ds]['clean_chars_per_char'] = data[ds]['clean_characters'] / data[ds]['characters']\n",
    "    data[ds]['spaces_per_char'] = data[ds]['spaces'] / data[ds]['characters']"
   ],
   "id": "3f90ad38fbcb031",
   "outputs": [],
   "execution_count": 31
  },
  {
   "metadata": {
    "ExecuteTime": {
     "end_time": "2024-07-19T18:54:32.896913Z",
     "start_time": "2024-07-19T18:54:32.797385Z"
    }
   },
   "cell_type": "code",
   "source": [
    "\"\"\"\n",
    "Save the data \n",
    "\"\"\"\n",
    "\n",
    "for ds in data_sources:\n",
    "    config_file = f'{root_dir}/{ds}/config.yaml'\n",
    "    with open(config_file, 'r') as f:\n",
    "        config = yaml.safe_load(f)\n",
    "    config['analysis'] = data[ds]\n",
    "    with open(config_file, 'w') as f:\n",
    "        yaml.dump(config, f)\n",
    "        "
   ],
   "id": "61138edddf39f553",
   "outputs": [],
   "execution_count": 32
  },
  {
   "cell_type": "code",
   "id": "initial_id",
   "metadata": {
    "collapsed": true,
    "ExecuteTime": {
     "end_time": "2024-07-19T18:54:35.927723Z",
     "start_time": "2024-07-19T18:54:35.885323Z"
    }
   },
   "source": [
    "\"\"\"\n",
    "View Analysis\n",
    "\"\"\"          \n",
    "# exclude the character_dict from the data dictionary\n",
    "for ds in data_sources:\n",
    "    data[ds].pop('character_dict')\n",
    "df = pd.DataFrame.from_dict(data, orient='index')\n",
    "sum_row = df.sum(axis=0).to_frame().T\n",
    "sum_row.index = ['Total']\n",
    "df = pd.concat([df, sum_row])\n",
    "display(df)"
   ],
   "outputs": [
    {
     "data": {
      "text/plain": [
       "                      lines  characters   spaces  clean_characters     points  \\\n",
       "twelve_numbers        150.0      1800.0      0.0            1800.0    39812.0   \n",
       "pangram_jordan        110.0      3116.0    440.0            2605.0    89167.0   \n",
       "fliff                 486.0     11025.0   1458.0            9318.0   169044.0   \n",
       "fortune_coins         582.0      9592.0   1164.0            8229.0   150991.0   \n",
       "player_name            36.0       828.0    108.0             720.0    12178.0   \n",
       "speech_jordan         377.0      7904.0   1122.0            6580.0   203734.0   \n",
       "high5                 246.0      3635.0    492.0            3094.0    56312.0   \n",
       "speech                992.0     20630.0   2951.0           17170.0   307880.0   \n",
       "special_characters    300.0      6591.0    626.0            5562.0   118095.0   \n",
       "number               1800.0      9000.0      0.0            9000.0   202045.0   \n",
       "IAM                 12187.0    351868.0  53115.0          286741.0  7651948.0   \n",
       "chumba_v2_jordan      231.0      4737.0    575.0            4067.0   141491.0   \n",
       "address                72.0      1896.0    216.0            1650.0    32610.0   \n",
       "chumba_v2             594.0     12126.0   1492.0           10386.0   184417.0   \n",
       "chumba                696.0     12034.0   1392.0           10394.0   186067.0   \n",
       "pangram               114.0      3225.0    456.0            2695.0    49128.0   \n",
       "email                  60.0      2116.0     60.0            1936.0    37490.0   \n",
       "Total               19033.0    462123.0  65667.0          381947.0  9632409.0   \n",
       "\n",
       "                         width  points_per_char  points_per_clean_char  \\\n",
       "twelve_numbers        218745.0        22.117778              22.117778   \n",
       "pangram_jordan        377222.0        28.615854              34.229175   \n",
       "fliff                1033932.0        15.332789              18.141661   \n",
       "fortune_coins         923670.0        15.741347              18.348645   \n",
       "player_name            85067.0        14.707729              16.913889   \n",
       "speech_jordan         816578.0        25.776063              30.962614   \n",
       "high5                 335553.0        15.491609              18.200388   \n",
       "speech               2450780.0        14.923897              17.931275   \n",
       "special_characters    719726.0        17.917615              21.232470   \n",
       "number               1196175.0        22.449444              22.449444   \n",
       "IAM                 63809067.0        21.746644              26.685922   \n",
       "chumba_v2_jordan      589409.0        29.869327              34.790017   \n",
       "address               208543.0        17.199367              19.763636   \n",
       "chumba_v2            1155033.0        15.208395              17.756307   \n",
       "chumba               1212354.0        15.461775              17.901385   \n",
       "pangram               333219.0        15.233488              18.229314   \n",
       "email                 241866.0        17.717391              19.364669   \n",
       "Total               75706939.0       325.510513             375.018590   \n",
       "\n",
       "                    width_per_char  width_per_clean_char  \\\n",
       "twelve_numbers          121.525000            121.525000   \n",
       "pangram_jordan          121.059692            144.806910   \n",
       "fliff                    93.780680            110.960721   \n",
       "fortune_coins            96.295872            112.245716   \n",
       "player_name             102.737923            118.148611   \n",
       "speech_jordan           103.311994            124.100000   \n",
       "high5                    92.311692            108.452812   \n",
       "speech                  118.796898            142.736168   \n",
       "special_characters      109.198301            129.400575   \n",
       "number                  132.908333            132.908333   \n",
       "IAM                     181.343762            222.532066   \n",
       "chumba_v2_jordan        124.426641            144.924760   \n",
       "address                 109.991034            126.389697   \n",
       "chumba_v2                95.252598            111.210572   \n",
       "chumba                  100.744059            116.639792   \n",
       "pangram                 103.323721            123.643414   \n",
       "email                   114.303403            124.930785   \n",
       "Total                  1921.311601           2215.555932   \n",
       "\n",
       "                    clean_chars_per_char  spaces_per_char  \n",
       "twelve_numbers                  1.000000         0.000000  \n",
       "pangram_jordan                  0.836008         0.141207  \n",
       "fliff                           0.845170         0.132245  \n",
       "fortune_coins                   0.857902         0.121351  \n",
       "player_name                     0.869565         0.130435  \n",
       "speech_jordan                   0.832490         0.141953  \n",
       "high5                           0.851169         0.135351  \n",
       "speech                          0.832283         0.143044  \n",
       "special_characters              0.843878         0.094978  \n",
       "number                          1.000000         0.000000  \n",
       "IAM                             0.814911         0.150951  \n",
       "chumba_v2_jordan                0.858560         0.121385  \n",
       "address                         0.870253         0.113924  \n",
       "chumba_v2                       0.856507         0.123041  \n",
       "chumba                          0.863719         0.115672  \n",
       "pangram                         0.835659         0.141395  \n",
       "email                           0.914934         0.028355  \n",
       "Total                          14.783009         1.835289  "
      ],
      "text/html": [
       "<div>\n",
       "<style scoped>\n",
       "    .dataframe tbody tr th:only-of-type {\n",
       "        vertical-align: middle;\n",
       "    }\n",
       "\n",
       "    .dataframe tbody tr th {\n",
       "        vertical-align: top;\n",
       "    }\n",
       "\n",
       "    .dataframe thead th {\n",
       "        text-align: right;\n",
       "    }\n",
       "</style>\n",
       "<table border=\"1\" class=\"dataframe\">\n",
       "  <thead>\n",
       "    <tr style=\"text-align: right;\">\n",
       "      <th></th>\n",
       "      <th>lines</th>\n",
       "      <th>characters</th>\n",
       "      <th>spaces</th>\n",
       "      <th>clean_characters</th>\n",
       "      <th>points</th>\n",
       "      <th>width</th>\n",
       "      <th>points_per_char</th>\n",
       "      <th>points_per_clean_char</th>\n",
       "      <th>width_per_char</th>\n",
       "      <th>width_per_clean_char</th>\n",
       "      <th>clean_chars_per_char</th>\n",
       "      <th>spaces_per_char</th>\n",
       "    </tr>\n",
       "  </thead>\n",
       "  <tbody>\n",
       "    <tr>\n",
       "      <th>twelve_numbers</th>\n",
       "      <td>150.0</td>\n",
       "      <td>1800.0</td>\n",
       "      <td>0.0</td>\n",
       "      <td>1800.0</td>\n",
       "      <td>39812.0</td>\n",
       "      <td>218745.0</td>\n",
       "      <td>22.117778</td>\n",
       "      <td>22.117778</td>\n",
       "      <td>121.525000</td>\n",
       "      <td>121.525000</td>\n",
       "      <td>1.000000</td>\n",
       "      <td>0.000000</td>\n",
       "    </tr>\n",
       "    <tr>\n",
       "      <th>pangram_jordan</th>\n",
       "      <td>110.0</td>\n",
       "      <td>3116.0</td>\n",
       "      <td>440.0</td>\n",
       "      <td>2605.0</td>\n",
       "      <td>89167.0</td>\n",
       "      <td>377222.0</td>\n",
       "      <td>28.615854</td>\n",
       "      <td>34.229175</td>\n",
       "      <td>121.059692</td>\n",
       "      <td>144.806910</td>\n",
       "      <td>0.836008</td>\n",
       "      <td>0.141207</td>\n",
       "    </tr>\n",
       "    <tr>\n",
       "      <th>fliff</th>\n",
       "      <td>486.0</td>\n",
       "      <td>11025.0</td>\n",
       "      <td>1458.0</td>\n",
       "      <td>9318.0</td>\n",
       "      <td>169044.0</td>\n",
       "      <td>1033932.0</td>\n",
       "      <td>15.332789</td>\n",
       "      <td>18.141661</td>\n",
       "      <td>93.780680</td>\n",
       "      <td>110.960721</td>\n",
       "      <td>0.845170</td>\n",
       "      <td>0.132245</td>\n",
       "    </tr>\n",
       "    <tr>\n",
       "      <th>fortune_coins</th>\n",
       "      <td>582.0</td>\n",
       "      <td>9592.0</td>\n",
       "      <td>1164.0</td>\n",
       "      <td>8229.0</td>\n",
       "      <td>150991.0</td>\n",
       "      <td>923670.0</td>\n",
       "      <td>15.741347</td>\n",
       "      <td>18.348645</td>\n",
       "      <td>96.295872</td>\n",
       "      <td>112.245716</td>\n",
       "      <td>0.857902</td>\n",
       "      <td>0.121351</td>\n",
       "    </tr>\n",
       "    <tr>\n",
       "      <th>player_name</th>\n",
       "      <td>36.0</td>\n",
       "      <td>828.0</td>\n",
       "      <td>108.0</td>\n",
       "      <td>720.0</td>\n",
       "      <td>12178.0</td>\n",
       "      <td>85067.0</td>\n",
       "      <td>14.707729</td>\n",
       "      <td>16.913889</td>\n",
       "      <td>102.737923</td>\n",
       "      <td>118.148611</td>\n",
       "      <td>0.869565</td>\n",
       "      <td>0.130435</td>\n",
       "    </tr>\n",
       "    <tr>\n",
       "      <th>speech_jordan</th>\n",
       "      <td>377.0</td>\n",
       "      <td>7904.0</td>\n",
       "      <td>1122.0</td>\n",
       "      <td>6580.0</td>\n",
       "      <td>203734.0</td>\n",
       "      <td>816578.0</td>\n",
       "      <td>25.776063</td>\n",
       "      <td>30.962614</td>\n",
       "      <td>103.311994</td>\n",
       "      <td>124.100000</td>\n",
       "      <td>0.832490</td>\n",
       "      <td>0.141953</td>\n",
       "    </tr>\n",
       "    <tr>\n",
       "      <th>high5</th>\n",
       "      <td>246.0</td>\n",
       "      <td>3635.0</td>\n",
       "      <td>492.0</td>\n",
       "      <td>3094.0</td>\n",
       "      <td>56312.0</td>\n",
       "      <td>335553.0</td>\n",
       "      <td>15.491609</td>\n",
       "      <td>18.200388</td>\n",
       "      <td>92.311692</td>\n",
       "      <td>108.452812</td>\n",
       "      <td>0.851169</td>\n",
       "      <td>0.135351</td>\n",
       "    </tr>\n",
       "    <tr>\n",
       "      <th>speech</th>\n",
       "      <td>992.0</td>\n",
       "      <td>20630.0</td>\n",
       "      <td>2951.0</td>\n",
       "      <td>17170.0</td>\n",
       "      <td>307880.0</td>\n",
       "      <td>2450780.0</td>\n",
       "      <td>14.923897</td>\n",
       "      <td>17.931275</td>\n",
       "      <td>118.796898</td>\n",
       "      <td>142.736168</td>\n",
       "      <td>0.832283</td>\n",
       "      <td>0.143044</td>\n",
       "    </tr>\n",
       "    <tr>\n",
       "      <th>special_characters</th>\n",
       "      <td>300.0</td>\n",
       "      <td>6591.0</td>\n",
       "      <td>626.0</td>\n",
       "      <td>5562.0</td>\n",
       "      <td>118095.0</td>\n",
       "      <td>719726.0</td>\n",
       "      <td>17.917615</td>\n",
       "      <td>21.232470</td>\n",
       "      <td>109.198301</td>\n",
       "      <td>129.400575</td>\n",
       "      <td>0.843878</td>\n",
       "      <td>0.094978</td>\n",
       "    </tr>\n",
       "    <tr>\n",
       "      <th>number</th>\n",
       "      <td>1800.0</td>\n",
       "      <td>9000.0</td>\n",
       "      <td>0.0</td>\n",
       "      <td>9000.0</td>\n",
       "      <td>202045.0</td>\n",
       "      <td>1196175.0</td>\n",
       "      <td>22.449444</td>\n",
       "      <td>22.449444</td>\n",
       "      <td>132.908333</td>\n",
       "      <td>132.908333</td>\n",
       "      <td>1.000000</td>\n",
       "      <td>0.000000</td>\n",
       "    </tr>\n",
       "    <tr>\n",
       "      <th>IAM</th>\n",
       "      <td>12187.0</td>\n",
       "      <td>351868.0</td>\n",
       "      <td>53115.0</td>\n",
       "      <td>286741.0</td>\n",
       "      <td>7651948.0</td>\n",
       "      <td>63809067.0</td>\n",
       "      <td>21.746644</td>\n",
       "      <td>26.685922</td>\n",
       "      <td>181.343762</td>\n",
       "      <td>222.532066</td>\n",
       "      <td>0.814911</td>\n",
       "      <td>0.150951</td>\n",
       "    </tr>\n",
       "    <tr>\n",
       "      <th>chumba_v2_jordan</th>\n",
       "      <td>231.0</td>\n",
       "      <td>4737.0</td>\n",
       "      <td>575.0</td>\n",
       "      <td>4067.0</td>\n",
       "      <td>141491.0</td>\n",
       "      <td>589409.0</td>\n",
       "      <td>29.869327</td>\n",
       "      <td>34.790017</td>\n",
       "      <td>124.426641</td>\n",
       "      <td>144.924760</td>\n",
       "      <td>0.858560</td>\n",
       "      <td>0.121385</td>\n",
       "    </tr>\n",
       "    <tr>\n",
       "      <th>address</th>\n",
       "      <td>72.0</td>\n",
       "      <td>1896.0</td>\n",
       "      <td>216.0</td>\n",
       "      <td>1650.0</td>\n",
       "      <td>32610.0</td>\n",
       "      <td>208543.0</td>\n",
       "      <td>17.199367</td>\n",
       "      <td>19.763636</td>\n",
       "      <td>109.991034</td>\n",
       "      <td>126.389697</td>\n",
       "      <td>0.870253</td>\n",
       "      <td>0.113924</td>\n",
       "    </tr>\n",
       "    <tr>\n",
       "      <th>chumba_v2</th>\n",
       "      <td>594.0</td>\n",
       "      <td>12126.0</td>\n",
       "      <td>1492.0</td>\n",
       "      <td>10386.0</td>\n",
       "      <td>184417.0</td>\n",
       "      <td>1155033.0</td>\n",
       "      <td>15.208395</td>\n",
       "      <td>17.756307</td>\n",
       "      <td>95.252598</td>\n",
       "      <td>111.210572</td>\n",
       "      <td>0.856507</td>\n",
       "      <td>0.123041</td>\n",
       "    </tr>\n",
       "    <tr>\n",
       "      <th>chumba</th>\n",
       "      <td>696.0</td>\n",
       "      <td>12034.0</td>\n",
       "      <td>1392.0</td>\n",
       "      <td>10394.0</td>\n",
       "      <td>186067.0</td>\n",
       "      <td>1212354.0</td>\n",
       "      <td>15.461775</td>\n",
       "      <td>17.901385</td>\n",
       "      <td>100.744059</td>\n",
       "      <td>116.639792</td>\n",
       "      <td>0.863719</td>\n",
       "      <td>0.115672</td>\n",
       "    </tr>\n",
       "    <tr>\n",
       "      <th>pangram</th>\n",
       "      <td>114.0</td>\n",
       "      <td>3225.0</td>\n",
       "      <td>456.0</td>\n",
       "      <td>2695.0</td>\n",
       "      <td>49128.0</td>\n",
       "      <td>333219.0</td>\n",
       "      <td>15.233488</td>\n",
       "      <td>18.229314</td>\n",
       "      <td>103.323721</td>\n",
       "      <td>123.643414</td>\n",
       "      <td>0.835659</td>\n",
       "      <td>0.141395</td>\n",
       "    </tr>\n",
       "    <tr>\n",
       "      <th>email</th>\n",
       "      <td>60.0</td>\n",
       "      <td>2116.0</td>\n",
       "      <td>60.0</td>\n",
       "      <td>1936.0</td>\n",
       "      <td>37490.0</td>\n",
       "      <td>241866.0</td>\n",
       "      <td>17.717391</td>\n",
       "      <td>19.364669</td>\n",
       "      <td>114.303403</td>\n",
       "      <td>124.930785</td>\n",
       "      <td>0.914934</td>\n",
       "      <td>0.028355</td>\n",
       "    </tr>\n",
       "    <tr>\n",
       "      <th>Total</th>\n",
       "      <td>19033.0</td>\n",
       "      <td>462123.0</td>\n",
       "      <td>65667.0</td>\n",
       "      <td>381947.0</td>\n",
       "      <td>9632409.0</td>\n",
       "      <td>75706939.0</td>\n",
       "      <td>325.510513</td>\n",
       "      <td>375.018590</td>\n",
       "      <td>1921.311601</td>\n",
       "      <td>2215.555932</td>\n",
       "      <td>14.783009</td>\n",
       "      <td>1.835289</td>\n",
       "    </tr>\n",
       "  </tbody>\n",
       "</table>\n",
       "</div>"
      ]
     },
     "metadata": {},
     "output_type": "display_data"
    }
   ],
   "execution_count": 33
  },
  {
   "metadata": {},
   "cell_type": "code",
   "source": "",
   "id": "fd5f676939abfb8f",
   "outputs": [],
   "execution_count": null
  }
 ],
 "metadata": {
  "kernelspec": {
   "display_name": "Python 3",
   "language": "python",
   "name": "python3"
  },
  "language_info": {
   "codemirror_mode": {
    "name": "ipython",
    "version": 2
   },
   "file_extension": ".py",
   "mimetype": "text/x-python",
   "name": "python",
   "nbconvert_exporter": "python",
   "pygments_lexer": "ipython2",
   "version": "2.7.6"
  }
 },
 "nbformat": 4,
 "nbformat_minor": 5
}
