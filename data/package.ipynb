{
 "cells": [
  {
   "cell_type": "code",
   "id": "initial_id",
   "metadata": {
    "collapsed": true,
    "ExecuteTime": {
     "end_time": "2024-07-19T01:19:34.130803Z",
     "start_time": "2024-07-19T01:19:32.809346Z"
    }
   },
   "source": [
    "import os\n",
    "import pickle\n",
    "import numpy as np\n",
    "import shutil\n",
    "import pandas as pd\n",
    "import yaml\n",
    "from IPython.display import display\n",
    "import ipywidgets as widgets\n",
    "from utils import CheckboxSelector, unpickle, clean_transcript_characters, analyze_characters, analyze_points, \\\n",
    "    analyze_width"
   ],
   "outputs": [
    {
     "name": "stderr",
     "output_type": "stream",
     "text": [
      "2024-07-18 21:19:34,033 - uim - INFO - Completed configuring logger()!\n",
      "2024-07-18 21:19:34,102 - uim.model.ink - INFO - Completed configuring logger()!\n",
      "2024-07-18 21:19:34,102 - uim.model.ink - INFO - Completed configuring logger()!\n"
     ]
    }
   ],
   "execution_count": 1
  },
  {
   "metadata": {
    "ExecuteTime": {
     "end_time": "2024-07-19T01:19:35.440491Z",
     "start_time": "2024-07-19T01:19:35.382962Z"
    }
   },
   "cell_type": "code",
   "source": [
    "\"\"\"\n",
    "Select directories to package, how to modify data, and name of the package\n",
    "\"\"\"\n",
    "\n",
    "# What data sources to format\n",
    "data_sources = [d for d in os.listdir('.') if os.path.isdir(d) and d != '__pycache__']\n",
    "data_selector = CheckboxSelector(data_sources, 'Select data sources to format')\n",
    "data_selector.display()\n",
    "\n",
    "# How to modify data\n",
    "data_modifications = ['interpolate', 'scale']\n",
    "modifications_selector = CheckboxSelector(data_modifications, 'Select data modifications')\n",
    "modifications_selector.display()\n",
    "\n",
    "# Create a text input widget\n",
    "input_field = widgets.Text(\n",
    "    value='',\n",
    "    placeholder='Type something',\n",
    "    description='Name for packaged data:',\n",
    "    disabled=False\n",
    ")\n",
    "display(input_field)"
   ],
   "id": "cd5e00e0568015f7",
   "outputs": [
    {
     "name": "stdout",
     "output_type": "stream",
     "text": [
      "Select data sources to format\n"
     ]
    },
    {
     "data": {
      "text/plain": [
       "Checkbox(value=False, description='twelve_numbers')"
      ],
      "application/vnd.jupyter.widget-view+json": {
       "version_major": 2,
       "version_minor": 0,
       "model_id": "c6a7d98969314f8a9fcda94f37461758"
      }
     },
     "metadata": {},
     "output_type": "display_data"
    },
    {
     "data": {
      "text/plain": [
       "Checkbox(value=False, description='pangram_jordan')"
      ],
      "application/vnd.jupyter.widget-view+json": {
       "version_major": 2,
       "version_minor": 0,
       "model_id": "c77b621a46aa4d4c8ef58d4b136293f2"
      }
     },
     "metadata": {},
     "output_type": "display_data"
    },
    {
     "data": {
      "text/plain": [
       "Checkbox(value=False, description='fliff')"
      ],
      "application/vnd.jupyter.widget-view+json": {
       "version_major": 2,
       "version_minor": 0,
       "model_id": "0ec4171882d64601acec64d94a2e3094"
      }
     },
     "metadata": {},
     "output_type": "display_data"
    },
    {
     "data": {
      "text/plain": [
       "Checkbox(value=False, description='fortune_coins')"
      ],
      "application/vnd.jupyter.widget-view+json": {
       "version_major": 2,
       "version_minor": 0,
       "model_id": "08ffcedf546c4c3aaefa80fce886986c"
      }
     },
     "metadata": {},
     "output_type": "display_data"
    },
    {
     "data": {
      "text/plain": [
       "Checkbox(value=False, description='player_name')"
      ],
      "application/vnd.jupyter.widget-view+json": {
       "version_major": 2,
       "version_minor": 0,
       "model_id": "f10d16deb23e47b4b67c4d916a11dfc9"
      }
     },
     "metadata": {},
     "output_type": "display_data"
    },
    {
     "data": {
      "text/plain": [
       "Checkbox(value=False, description='speech_jordan')"
      ],
      "application/vnd.jupyter.widget-view+json": {
       "version_major": 2,
       "version_minor": 0,
       "model_id": "b5a2a00ac4ee4d4198ed4fea2e87073c"
      }
     },
     "metadata": {},
     "output_type": "display_data"
    },
    {
     "data": {
      "text/plain": [
       "Checkbox(value=False, description='high5')"
      ],
      "application/vnd.jupyter.widget-view+json": {
       "version_major": 2,
       "version_minor": 0,
       "model_id": "efaba8b6311347e3bb10fd948dbabbe3"
      }
     },
     "metadata": {},
     "output_type": "display_data"
    },
    {
     "data": {
      "text/plain": [
       "Checkbox(value=False, description='speech')"
      ],
      "application/vnd.jupyter.widget-view+json": {
       "version_major": 2,
       "version_minor": 0,
       "model_id": "4248dc3625c84a4f849bd7c509e8d0ed"
      }
     },
     "metadata": {},
     "output_type": "display_data"
    },
    {
     "data": {
      "text/plain": [
       "Checkbox(value=False, description='special_characters')"
      ],
      "application/vnd.jupyter.widget-view+json": {
       "version_major": 2,
       "version_minor": 0,
       "model_id": "7e4d88a3689e4d81bfb97e93c170e63e"
      }
     },
     "metadata": {},
     "output_type": "display_data"
    },
    {
     "data": {
      "text/plain": [
       "Checkbox(value=False, description='number')"
      ],
      "application/vnd.jupyter.widget-view+json": {
       "version_major": 2,
       "version_minor": 0,
       "model_id": "9b308b494a6c4496bcb88044dff5fd46"
      }
     },
     "metadata": {},
     "output_type": "display_data"
    },
    {
     "data": {
      "text/plain": [
       "Checkbox(value=False, description='IAM')"
      ],
      "application/vnd.jupyter.widget-view+json": {
       "version_major": 2,
       "version_minor": 0,
       "model_id": "34fc6ccaaeba4640af5942f3fde0eb95"
      }
     },
     "metadata": {},
     "output_type": "display_data"
    },
    {
     "data": {
      "text/plain": [
       "Checkbox(value=False, description='chumba_v2_jordan')"
      ],
      "application/vnd.jupyter.widget-view+json": {
       "version_major": 2,
       "version_minor": 0,
       "model_id": "5932982a98ed47a3a41e76f6e18a69e0"
      }
     },
     "metadata": {},
     "output_type": "display_data"
    },
    {
     "data": {
      "text/plain": [
       "Checkbox(value=False, description='address')"
      ],
      "application/vnd.jupyter.widget-view+json": {
       "version_major": 2,
       "version_minor": 0,
       "model_id": "d5c149bbb09a466fba09cb431b314f23"
      }
     },
     "metadata": {},
     "output_type": "display_data"
    },
    {
     "data": {
      "text/plain": [
       "Checkbox(value=False, description='chumba_v2')"
      ],
      "application/vnd.jupyter.widget-view+json": {
       "version_major": 2,
       "version_minor": 0,
       "model_id": "8f56a4124ff24420a7f306e4ea94c938"
      }
     },
     "metadata": {},
     "output_type": "display_data"
    },
    {
     "data": {
      "text/plain": [
       "Checkbox(value=False, description='chumba')"
      ],
      "application/vnd.jupyter.widget-view+json": {
       "version_major": 2,
       "version_minor": 0,
       "model_id": "c6a86b2bf2214bef9fc3777981c27778"
      }
     },
     "metadata": {},
     "output_type": "display_data"
    },
    {
     "data": {
      "text/plain": [
       "Checkbox(value=False, description='pangram')"
      ],
      "application/vnd.jupyter.widget-view+json": {
       "version_major": 2,
       "version_minor": 0,
       "model_id": "b356e312ad804207a91ab533f0172b27"
      }
     },
     "metadata": {},
     "output_type": "display_data"
    },
    {
     "data": {
      "text/plain": [
       "Checkbox(value=False, description='email')"
      ],
      "application/vnd.jupyter.widget-view+json": {
       "version_major": 2,
       "version_minor": 0,
       "model_id": "2edabcbd6c274b92b37926e63030b2d9"
      }
     },
     "metadata": {},
     "output_type": "display_data"
    },
    {
     "name": "stdout",
     "output_type": "stream",
     "text": [
      "Select data modifications\n"
     ]
    },
    {
     "data": {
      "text/plain": [
       "Checkbox(value=False, description='interpolate')"
      ],
      "application/vnd.jupyter.widget-view+json": {
       "version_major": 2,
       "version_minor": 0,
       "model_id": "cdc6fa3063674658a5dc2249c099d487"
      }
     },
     "metadata": {},
     "output_type": "display_data"
    },
    {
     "data": {
      "text/plain": [
       "Checkbox(value=False, description='scale')"
      ],
      "application/vnd.jupyter.widget-view+json": {
       "version_major": 2,
       "version_minor": 0,
       "model_id": "4684e2d347be4c238cac8bd37eac88aa"
      }
     },
     "metadata": {},
     "output_type": "display_data"
    },
    {
     "data": {
      "text/plain": [
       "Text(value='', description='Name for packaged data:', placeholder='Type something')"
      ],
      "application/vnd.jupyter.widget-view+json": {
       "version_major": 2,
       "version_minor": 0,
       "model_id": "bda5d571bded42d5a95ed216d665a702"
      }
     },
     "metadata": {},
     "output_type": "display_data"
    }
   ],
   "execution_count": 2
  },
  {
   "metadata": {
    "ExecuteTime": {
     "end_time": "2024-07-19T01:20:06.660760Z",
     "start_time": "2024-07-19T01:20:06.655266Z"
    }
   },
   "cell_type": "code",
   "source": [
    "\"\"\"\n",
    "Set selections to variables\n",
    "\"\"\"\n",
    "\n",
    "data_sources = data_selector.get_selected_items()\n",
    "data_modifications = modifications_selector.get_selected_items()\n",
    "package_root = '../prepared_data'\n",
    "package_name = input_field.value"
   ],
   "id": "42bf915d0de3b6e4",
   "outputs": [],
   "execution_count": 3
  },
  {
   "metadata": {
    "ExecuteTime": {
     "end_time": "2024-07-19T01:20:07.719990Z",
     "start_time": "2024-07-19T01:20:07.663851Z"
    }
   },
   "cell_type": "code",
   "source": [
    "\"\"\"\n",
    "Calculate Interpolation Constant, Define Interpolation Function\n",
    "\"\"\"\n",
    "\n",
    "iam_config = yaml.safe_load(open('IAM/config.yaml', 'r'))\n",
    "iam_points_per_clean_character = iam_config['analysis']['points_per_clean_char']\n",
    "\n",
    "points = 0\n",
    "clean_characters = 0\n",
    "for ds in [d for d in data_sources if d != 'IAM']:\n",
    "    config = yaml.safe_load(open(f'{ds}/config.yaml', 'r'))\n",
    "    points += config['analysis']['points']\n",
    "    clean_characters += config['analysis']['clean_characters']\n",
    "    \n",
    "points_per_clean_character = points / clean_characters\n",
    "interpolation_constant = iam_points_per_clean_character / points_per_clean_character\n",
    "print(f'Points per clean character: {points_per_clean_character}')\n",
    "print(f'Interpolation constant: {interpolation_constant}')\n",
    "\n",
    "def interpolate_strokes(strokes, constant):\n",
    "    interpolated_strokes = []\n",
    "    for stroke in strokes:\n",
    "        original_points = np.array(stroke)\n",
    "        original_num_points = len(stroke)\n",
    "        new_num_points = int(np.ceil(constant * original_num_points))\n",
    "        new_indices = np.linspace(0, original_num_points - 1, new_num_points)\n",
    "        x = original_points[:, 0]\n",
    "        new_x = np.interp(new_indices, np.arange(original_num_points), x).astype(int)\n",
    "        y = original_points[:, 1]\n",
    "        new_y = np.interp(new_indices, np.arange(original_num_points), y).astype(int)\n",
    "        new_points = np.column_stack((new_x, new_y))\n",
    "        interpolated_strokes.append(new_points)\n",
    "        \n",
    "    return interpolated_strokes"
   ],
   "id": "47445081cd0d80cd",
   "outputs": [
    {
     "name": "stdout",
     "output_type": "stream",
     "text": [
      "Points per clean character: 18.865082851355638\n",
      "Interpolation constant: 1.4145669196929396\n"
     ]
    }
   ],
   "execution_count": 4
  },
  {
   "metadata": {
    "ExecuteTime": {
     "end_time": "2024-07-19T01:20:15.939333Z",
     "start_time": "2024-07-19T01:20:15.911574Z"
    }
   },
   "cell_type": "code",
   "source": [
    "\"\"\"\n",
    "Calculate Scaling Constant, Define Scaling Function\n",
    "\"\"\"\n",
    "\n",
    "iam_config = yaml.safe_load(open('IAM/config.yaml', 'r'))\n",
    "iam_width_per_char = iam_config['analysis']['width_per_char']\n",
    "\n",
    "width = 0\n",
    "characters = 0\n",
    "for ds in [d for d in data_sources if d != 'IAM']:\n",
    "    config = yaml.safe_load(open(f'{ds}/config.yaml', 'r'))\n",
    "    width += config['analysis']['width']\n",
    "    characters += config['analysis']['characters']\n",
    "    \n",
    "width_per_character = width / characters\n",
    "scaling_constant = iam_width_per_char / width_per_character\n",
    "print(f'Width per character: {width_per_character}')\n",
    "print(f'Scaling constant: {scaling_constant}')\n",
    "\n",
    "\n",
    "def scale_strokes(strokes, constant):\n",
    "    new_strokes = []\n",
    "    for stroke in strokes:\n",
    "        new_stroke = []\n",
    "        for point in stroke:\n",
    "            scaled_point = [p * constant for p in point]\n",
    "            new_stroke.append(scaled_point)\n",
    "        new_strokes.append(new_stroke)\n",
    "        \n",
    "    return new_strokes"
   ],
   "id": "bb384e3d6c909e33",
   "outputs": [
    {
     "name": "stdout",
     "output_type": "stream",
     "text": [
      "Width per character: 107.03573620605727\n",
      "Scaling constant: 1.6942356717622824\n"
     ]
    }
   ],
   "execution_count": 5
  },
  {
   "metadata": {
    "ExecuteTime": {
     "end_time": "2024-07-19T01:20:18.134231Z",
     "start_time": "2024-07-19T01:20:18.111506Z"
    }
   },
   "cell_type": "code",
   "source": [
    "\"\"\"\n",
    "Create new package directory\n",
    "\"\"\"\n",
    "\n",
    "if not os.path.exists(f'{package_root}/{package_name}/lines'):\n",
    "    os.makedirs(f'{package_root}/{package_name}/lines')\n",
    "else:\n",
    "    print('Package already exists.')"
   ],
   "id": "50ed876249ba10b8",
   "outputs": [],
   "execution_count": 6
  },
  {
   "metadata": {
    "ExecuteTime": {
     "end_time": "2024-07-19T01:20:27.437095Z",
     "start_time": "2024-07-19T01:20:23.192316Z"
    }
   },
   "cell_type": "code",
   "source": [
    "\"\"\"\n",
    "Copy IAM Lines to package\n",
    "\"\"\"\n",
    "\n",
    "if 'IAM' in data_sources:\n",
    "    iam_files = os.listdir('IAM/lines')\n",
    "    for file in iam_files:\n",
    "        src = f'IAM/lines/{file}'\n",
    "        dst = f'{package_root}/{package_name}/lines/{file}_IAM.pkl'\n",
    "        shutil.copy(src, dst)\n",
    "        "
   ],
   "id": "f675ce867f71bf74",
   "outputs": [],
   "execution_count": 7
  },
  {
   "metadata": {
    "ExecuteTime": {
     "end_time": "2024-07-19T01:20:44.561569Z",
     "start_time": "2024-07-19T01:20:32.441900Z"
    }
   },
   "cell_type": "code",
   "source": [
    "\"\"\"\n",
    "Interpolate, scale, and copy data to package\n",
    "\"\"\"\n",
    "\n",
    "for ds in [d for d in data_sources if d != 'IAM']:\n",
    "\n",
    "    \n",
    "    for file in os.listdir(f'{ds}/lines'):\n",
    "        line = unpickle(f'{ds}/lines/{file}')\n",
    "        strokes = line['strokes']\n",
    "        \n",
    "        # Interpolate and scale strokes\n",
    "        if 'interpolate' in data_modifications:\n",
    "            strokes = interpolate_strokes(strokes, interpolation_constant)\n",
    "        if 'scale' in data_modifications:\n",
    "            strokes = scale_strokes(strokes, scaling_constant)\n",
    "\n",
    "        # Save strokes to new file\n",
    "        with open(f'{package_root}/{package_name}/lines/{file}_{ds}.pkl', 'wb') as f:\n",
    "            pickle.dump({'transcript': line['transcript'], 'strokes': strokes}, f)\n",
    "        "
   ],
   "id": "6fabc8b13c7f85c1",
   "outputs": [],
   "execution_count": 8
  },
  {
   "metadata": {
    "ExecuteTime": {
     "end_time": "2024-07-19T01:20:49.361821Z",
     "start_time": "2024-07-19T01:20:47.328570Z"
    }
   },
   "cell_type": "code",
   "source": [
    "\"\"\"\n",
    "Shuffle and rename files in package\n",
    "\"\"\"\n",
    "\n",
    "files = os.listdir(f'{package_root}/{package_name}/lines')\n",
    "np.random.shuffle(files)\n",
    "for i, file in enumerate(files):\n",
    "    os.rename(f'{package_root}/{package_name}/lines/{file}', f'{package_root}/{package_name}/lines/{i}.pkl')"
   ],
   "id": "b546c4a189c1f37c",
   "outputs": [],
   "execution_count": 9
  },
  {
   "metadata": {
    "ExecuteTime": {
     "end_time": "2024-07-19T01:21:05.837234Z",
     "start_time": "2024-07-19T01:20:54.135923Z"
    }
   },
   "cell_type": "code",
   "source": [
    "\"\"\"\n",
    "Analyze new package\n",
    "\"\"\"\n",
    "\n",
    "# Initialize the dictionary to store the data of each dataset\n",
    "\n",
    "# analyze the characters in the transcript\n",
    "characters, spaces, clean_characters = analyze_characters(package_root, package_name)\n",
    "points = analyze_points(package_root, package_name)\n",
    "width = analyze_width(package_root, package_name)\n",
    "data = {'characters': characters, 'spaces': spaces, 'clean_characters': clean_characters, 'points': points, 'width': width}\n",
    "\n"
   ],
   "id": "e977699f8a51be59",
   "execution_count": 10,
   "outputs": []
  },
  {
   "metadata": {
    "ExecuteTime": {
     "end_time": "2024-07-19T01:21:07.295324Z",
     "start_time": "2024-07-19T01:21:07.281491Z"
    }
   },
   "cell_type": "code",
   "source": [
    "\"\"\"\n",
    "Basic Calcs on the data\n",
    "\"\"\"\n",
    "\n",
    "data['points_per_char'] = data['points'] / data['characters']\n",
    "data['points_per_clean_char'] = data['points'] / data['clean_characters']\n",
    "data['width_per_char'] = data['width'] / data['characters']\n",
    "data['width_per_clean_char'] = data['width'] / data['clean_characters']\n",
    "data['clean_chars_per_char'] = data['clean_characters'] / data['characters']\n",
    "data['spaces_per_char'] = data['spaces'] / data['characters']"
   ],
   "id": "fc00b8508f889ce5",
   "outputs": [],
   "execution_count": 11
  },
  {
   "metadata": {
    "ExecuteTime": {
     "end_time": "2024-07-19T01:21:10.359272Z",
     "start_time": "2024-07-19T01:21:10.351415Z"
    }
   },
   "cell_type": "code",
   "source": [
    "\"\"\"\n",
    "Add analysis to a metadata file\n",
    "\"\"\"\n",
    "\n",
    "# add analysis to metadata file\n",
    "metadata = {'analysis': data}\n",
    "with open(f'{package_root}/{package_name}/config.yaml', 'w') as f:\n",
    "    yaml.dump(metadata, f)"
   ],
   "id": "5fd5a0582377c189",
   "outputs": [],
   "execution_count": 12
  },
  {
   "metadata": {
    "ExecuteTime": {
     "end_time": "2024-07-19T01:21:13.007783Z",
     "start_time": "2024-07-19T01:21:12.967109Z"
    }
   },
   "cell_type": "code",
   "source": [
    "\"\"\"\n",
    "View Analysis\n",
    "\"\"\"          \n",
    "\n",
    "# get analysis from IAM\n",
    "iam_config = yaml.safe_load(open('IAM/config.yaml', 'r'))\n",
    "iam_analysis = iam_config['analysis']\n",
    "\n",
    "# display the analysis\n",
    "df = pd.DataFrame.from_dict({'IAM': iam_analysis, 'New': data}, orient='index')\n",
    "display(df)"
   ],
   "id": "89749906c3c6927d",
   "outputs": [
    {
     "data": {
      "text/plain": [
       "     characters  clean_characters  clean_chars_per_char   points  \\\n",
       "IAM      351868            286741              0.814911  7651948   \n",
       "New      446366            368695              0.825993  9889900   \n",
       "\n",
       "     points_per_char  points_per_clean_char  spaces  spaces_per_char  \\\n",
       "IAM        21.746644              26.685922   53115         0.150951   \n",
       "New        22.156481              26.824069   63530         0.142327   \n",
       "\n",
       "            width  width_per_char  width_per_clean_char  \n",
       "IAM  6.380907e+07      181.343762            222.532066  \n",
       "New  8.094193e+07      181.335344            219.536289  "
      ],
      "text/html": [
       "<div>\n",
       "<style scoped>\n",
       "    .dataframe tbody tr th:only-of-type {\n",
       "        vertical-align: middle;\n",
       "    }\n",
       "\n",
       "    .dataframe tbody tr th {\n",
       "        vertical-align: top;\n",
       "    }\n",
       "\n",
       "    .dataframe thead th {\n",
       "        text-align: right;\n",
       "    }\n",
       "</style>\n",
       "<table border=\"1\" class=\"dataframe\">\n",
       "  <thead>\n",
       "    <tr style=\"text-align: right;\">\n",
       "      <th></th>\n",
       "      <th>characters</th>\n",
       "      <th>clean_characters</th>\n",
       "      <th>clean_chars_per_char</th>\n",
       "      <th>points</th>\n",
       "      <th>points_per_char</th>\n",
       "      <th>points_per_clean_char</th>\n",
       "      <th>spaces</th>\n",
       "      <th>spaces_per_char</th>\n",
       "      <th>width</th>\n",
       "      <th>width_per_char</th>\n",
       "      <th>width_per_clean_char</th>\n",
       "    </tr>\n",
       "  </thead>\n",
       "  <tbody>\n",
       "    <tr>\n",
       "      <th>IAM</th>\n",
       "      <td>351868</td>\n",
       "      <td>286741</td>\n",
       "      <td>0.814911</td>\n",
       "      <td>7651948</td>\n",
       "      <td>21.746644</td>\n",
       "      <td>26.685922</td>\n",
       "      <td>53115</td>\n",
       "      <td>0.150951</td>\n",
       "      <td>6.380907e+07</td>\n",
       "      <td>181.343762</td>\n",
       "      <td>222.532066</td>\n",
       "    </tr>\n",
       "    <tr>\n",
       "      <th>New</th>\n",
       "      <td>446366</td>\n",
       "      <td>368695</td>\n",
       "      <td>0.825993</td>\n",
       "      <td>9889900</td>\n",
       "      <td>22.156481</td>\n",
       "      <td>26.824069</td>\n",
       "      <td>63530</td>\n",
       "      <td>0.142327</td>\n",
       "      <td>8.094193e+07</td>\n",
       "      <td>181.335344</td>\n",
       "      <td>219.536289</td>\n",
       "    </tr>\n",
       "  </tbody>\n",
       "</table>\n",
       "</div>"
      ]
     },
     "metadata": {},
     "output_type": "display_data"
    }
   ],
   "execution_count": 13
  },
  {
   "metadata": {},
   "cell_type": "markdown",
   "source": "",
   "id": "27ecf29a2599d1f1"
  },
  {
   "metadata": {
    "ExecuteTime": {
     "end_time": "2024-07-19T01:24:16.635469Z",
     "start_time": "2024-07-19T01:24:16.609573Z"
    }
   },
   "cell_type": "code",
   "source": [
    "\"\"\"\n",
    "Length of the data (training, validation)\n",
    "\"\"\"\n",
    "\n",
    "# get the length of the data\n",
    "length = len(os.listdir(f'{package_root}/{package_name}/lines'))\n",
    "train_length = int(length * 0.85)\n",
    "val_length = length - train_length\n",
    "print(f'Training Length: {train_length}')\n",
    "print(f'Validation Length: {val_length}')"
   ],
   "id": "6d895fe6aad54841",
   "outputs": [
    {
     "name": "stdout",
     "output_type": "stream",
     "text": [
      "Training Length: 15567\n",
      "Validation Length: 2748\n"
     ]
    }
   ],
   "execution_count": 17
  },
  {
   "metadata": {},
   "cell_type": "code",
   "source": "",
   "id": "b78c2275530882fc",
   "outputs": [],
   "execution_count": null
  }
 ],
 "metadata": {
  "kernelspec": {
   "display_name": "Python 3",
   "language": "python",
   "name": "python3"
  },
  "language_info": {
   "codemirror_mode": {
    "name": "ipython",
    "version": 2
   },
   "file_extension": ".py",
   "mimetype": "text/x-python",
   "name": "python",
   "nbconvert_exporter": "python",
   "pygments_lexer": "ipython2",
   "version": "2.7.6"
  }
 },
 "nbformat": 4,
 "nbformat_minor": 5
}
