{
 "cells": [
  {
   "cell_type": "code",
   "id": "initial_id",
   "metadata": {
    "collapsed": true,
    "ExecuteTime": {
     "end_time": "2024-07-24T17:33:34.647514Z",
     "start_time": "2024-07-24T17:33:33.583951Z"
    }
   },
   "source": [
    "import os\n",
    "import pickle\n",
    "import numpy as np\n",
    "import shutil\n",
    "import pandas as pd\n",
    "import yaml\n",
    "from IPython.display import display\n",
    "import ipywidgets as widgets\n",
    "from utils import CheckboxSelector, unpickle, clean_transcript_characters, analyze_characters, analyze_points, \\\n",
    "    analyze_width\n",
    "root_dir = './data'"
   ],
   "outputs": [
    {
     "name": "stderr",
     "output_type": "stream",
     "text": [
      "2024-07-24 13:33:34,561 - uim - INFO - Completed configuring logger()!\n",
      "2024-07-24 13:33:34,624 - uim.model.ink - INFO - Completed configuring logger()!\n",
      "2024-07-24 13:33:34,624 - uim.model.ink - INFO - Completed configuring logger()!\n"
     ]
    }
   ],
   "execution_count": 1
  },
  {
   "metadata": {
    "ExecuteTime": {
     "end_time": "2024-07-24T17:33:36.296360Z",
     "start_time": "2024-07-24T17:33:36.231564Z"
    }
   },
   "cell_type": "code",
   "source": [
    "\"\"\"\n",
    "Select directories to package, how to modify data, and name of the package\n",
    "\"\"\"\n",
    "\n",
    "# What data sources to format\n",
    "data_sources = [d for d in os.listdir(root_dir) if os.path.isdir(f'{root_dir}/{d}') and d != '__pycache__']\n",
    "data_selector = CheckboxSelector(data_sources, 'Select data sources to format')\n",
    "data_selector.display()\n",
    "\n",
    "# How to modify data\n",
    "data_modifications = ['interpolate', 'scale']\n",
    "modifications_selector = CheckboxSelector(data_modifications, 'Select data modifications')\n",
    "modifications_selector.display()\n",
    "\n",
    "# Remove long lines\n",
    "lines_to_remove = ['No adjustments', '700', '1000']\n",
    "lines_to_remove_selector = CheckboxSelector(lines_to_remove, 'Select data modifications')\n",
    "lines_to_remove_selector.display()\n",
    "\n",
    "# Create a text input widget\n",
    "input_field = widgets.Text(\n",
    "    value='',\n",
    "    placeholder='Type something',\n",
    "    description='Name for packaged data:',\n",
    "    disabled=False\n",
    ")\n",
    "display(input_field)"
   ],
   "id": "cd5e00e0568015f7",
   "outputs": [
    {
     "name": "stdout",
     "output_type": "stream",
     "text": [
      "Select data sources to format\n"
     ]
    },
    {
     "data": {
      "text/plain": [
       "Checkbox(value=False, description='twelve_numbers')"
      ],
      "application/vnd.jupyter.widget-view+json": {
       "version_major": 2,
       "version_minor": 0,
       "model_id": "8c5bcf4a520441438c80f2c70d78ef5b"
      }
     },
     "metadata": {},
     "output_type": "display_data"
    },
    {
     "data": {
      "text/plain": [
       "Checkbox(value=False, description='pangram_jordan')"
      ],
      "application/vnd.jupyter.widget-view+json": {
       "version_major": 2,
       "version_minor": 0,
       "model_id": "1dbaade549ef49debd171abdceaf426c"
      }
     },
     "metadata": {},
     "output_type": "display_data"
    },
    {
     "data": {
      "text/plain": [
       "Checkbox(value=False, description='fliff')"
      ],
      "application/vnd.jupyter.widget-view+json": {
       "version_major": 2,
       "version_minor": 0,
       "model_id": "5eb35a2735334cf699c7c97a3ee00cb5"
      }
     },
     "metadata": {},
     "output_type": "display_data"
    },
    {
     "data": {
      "text/plain": [
       "Checkbox(value=False, description='fortune_coins')"
      ],
      "application/vnd.jupyter.widget-view+json": {
       "version_major": 2,
       "version_minor": 0,
       "model_id": "3a974669e6f643c6a97973eea2a14f03"
      }
     },
     "metadata": {},
     "output_type": "display_data"
    },
    {
     "data": {
      "text/plain": [
       "Checkbox(value=False, description='player_name')"
      ],
      "application/vnd.jupyter.widget-view+json": {
       "version_major": 2,
       "version_minor": 0,
       "model_id": "1ec84ab506184bff8bd79d044baa4fc6"
      }
     },
     "metadata": {},
     "output_type": "display_data"
    },
    {
     "data": {
      "text/plain": [
       "Checkbox(value=False, description='speech_jordan')"
      ],
      "application/vnd.jupyter.widget-view+json": {
       "version_major": 2,
       "version_minor": 0,
       "model_id": "12f13e3f7d274016b141778c868d8943"
      }
     },
     "metadata": {},
     "output_type": "display_data"
    },
    {
     "data": {
      "text/plain": [
       "Checkbox(value=False, description='high5')"
      ],
      "application/vnd.jupyter.widget-view+json": {
       "version_major": 2,
       "version_minor": 0,
       "model_id": "654b9cd106434b25931ebc4bd7cf8f16"
      }
     },
     "metadata": {},
     "output_type": "display_data"
    },
    {
     "data": {
      "text/plain": [
       "Checkbox(value=False, description='speech')"
      ],
      "application/vnd.jupyter.widget-view+json": {
       "version_major": 2,
       "version_minor": 0,
       "model_id": "4555f89e850b447c8845987f089c3acc"
      }
     },
     "metadata": {},
     "output_type": "display_data"
    },
    {
     "data": {
      "text/plain": [
       "Checkbox(value=False, description='special_characters')"
      ],
      "application/vnd.jupyter.widget-view+json": {
       "version_major": 2,
       "version_minor": 0,
       "model_id": "20726631cd61416895f7e9bfac80ae01"
      }
     },
     "metadata": {},
     "output_type": "display_data"
    },
    {
     "data": {
      "text/plain": [
       "Checkbox(value=False, description='number')"
      ],
      "application/vnd.jupyter.widget-view+json": {
       "version_major": 2,
       "version_minor": 0,
       "model_id": "1b86eec6cb8d48bab54da1afc7df1360"
      }
     },
     "metadata": {},
     "output_type": "display_data"
    },
    {
     "data": {
      "text/plain": [
       "Checkbox(value=False, description='IAM')"
      ],
      "application/vnd.jupyter.widget-view+json": {
       "version_major": 2,
       "version_minor": 0,
       "model_id": "a6486f66c1c54feeb270ce8f25a218b3"
      }
     },
     "metadata": {},
     "output_type": "display_data"
    },
    {
     "data": {
      "text/plain": [
       "Checkbox(value=False, description='chumba_v2_jordan')"
      ],
      "application/vnd.jupyter.widget-view+json": {
       "version_major": 2,
       "version_minor": 0,
       "model_id": "b5338ca0044b4543bef5416b592b864d"
      }
     },
     "metadata": {},
     "output_type": "display_data"
    },
    {
     "data": {
      "text/plain": [
       "Checkbox(value=False, description='address')"
      ],
      "application/vnd.jupyter.widget-view+json": {
       "version_major": 2,
       "version_minor": 0,
       "model_id": "97b95113c817465891f887e5d1403d23"
      }
     },
     "metadata": {},
     "output_type": "display_data"
    },
    {
     "data": {
      "text/plain": [
       "Checkbox(value=False, description='chumba_v2')"
      ],
      "application/vnd.jupyter.widget-view+json": {
       "version_major": 2,
       "version_minor": 0,
       "model_id": "8e7f008a02c245839eb06e7c6f35f657"
      }
     },
     "metadata": {},
     "output_type": "display_data"
    },
    {
     "data": {
      "text/plain": [
       "Checkbox(value=False, description='chumba')"
      ],
      "application/vnd.jupyter.widget-view+json": {
       "version_major": 2,
       "version_minor": 0,
       "model_id": "6c87a6a8898c4d928198dd2d3af8450f"
      }
     },
     "metadata": {},
     "output_type": "display_data"
    },
    {
     "data": {
      "text/plain": [
       "Checkbox(value=False, description='pangram')"
      ],
      "application/vnd.jupyter.widget-view+json": {
       "version_major": 2,
       "version_minor": 0,
       "model_id": "eb896516a7ce42a5b79df90e1e20687a"
      }
     },
     "metadata": {},
     "output_type": "display_data"
    },
    {
     "data": {
      "text/plain": [
       "Checkbox(value=False, description='email')"
      ],
      "application/vnd.jupyter.widget-view+json": {
       "version_major": 2,
       "version_minor": 0,
       "model_id": "39f6bf67fc8c4aff8485c6a033ece323"
      }
     },
     "metadata": {},
     "output_type": "display_data"
    },
    {
     "name": "stdout",
     "output_type": "stream",
     "text": [
      "Select data modifications\n"
     ]
    },
    {
     "data": {
      "text/plain": [
       "Checkbox(value=False, description='interpolate')"
      ],
      "application/vnd.jupyter.widget-view+json": {
       "version_major": 2,
       "version_minor": 0,
       "model_id": "119e311d835042959564cf06b1b1cc5e"
      }
     },
     "metadata": {},
     "output_type": "display_data"
    },
    {
     "data": {
      "text/plain": [
       "Checkbox(value=False, description='scale')"
      ],
      "application/vnd.jupyter.widget-view+json": {
       "version_major": 2,
       "version_minor": 0,
       "model_id": "4de6d050f88c427c8fafc2d1dca6ee9c"
      }
     },
     "metadata": {},
     "output_type": "display_data"
    },
    {
     "name": "stdout",
     "output_type": "stream",
     "text": [
      "Select data modifications\n"
     ]
    },
    {
     "data": {
      "text/plain": [
       "Checkbox(value=False, description='No adjustments')"
      ],
      "application/vnd.jupyter.widget-view+json": {
       "version_major": 2,
       "version_minor": 0,
       "model_id": "1502a6b396be46bf83cd2a9d0b1bd71f"
      }
     },
     "metadata": {},
     "output_type": "display_data"
    },
    {
     "data": {
      "text/plain": [
       "Checkbox(value=False, description='700')"
      ],
      "application/vnd.jupyter.widget-view+json": {
       "version_major": 2,
       "version_minor": 0,
       "model_id": "103206bf9a3144e0a066e16d6c344aee"
      }
     },
     "metadata": {},
     "output_type": "display_data"
    },
    {
     "data": {
      "text/plain": [
       "Checkbox(value=False, description='1000')"
      ],
      "application/vnd.jupyter.widget-view+json": {
       "version_major": 2,
       "version_minor": 0,
       "model_id": "1c003a67b5e04574ac94885f05e79c5c"
      }
     },
     "metadata": {},
     "output_type": "display_data"
    },
    {
     "data": {
      "text/plain": [
       "Text(value='', description='Name for packaged data:', placeholder='Type something')"
      ],
      "application/vnd.jupyter.widget-view+json": {
       "version_major": 2,
       "version_minor": 0,
       "model_id": "cc8153a225614416a1591a657707ed5e"
      }
     },
     "metadata": {},
     "output_type": "display_data"
    }
   ],
   "execution_count": 2
  },
  {
   "metadata": {
    "ExecuteTime": {
     "end_time": "2024-07-24T17:33:53.280595Z",
     "start_time": "2024-07-24T17:33:53.274134Z"
    }
   },
   "cell_type": "code",
   "source": [
    "\"\"\"\n",
    "Set selections to variables\n",
    "\"\"\"\n",
    "\n",
    "data_sources = data_selector.get_selected_items()\n",
    "data_modifications = modifications_selector.get_selected_items()\n",
    "lines_to_remove = lines_to_remove_selector.get_selected_items()\n",
    "package_root = '../prepared_data'\n",
    "package_name = input_field.value"
   ],
   "id": "42bf915d0de3b6e4",
   "outputs": [],
   "execution_count": 3
  },
  {
   "metadata": {
    "ExecuteTime": {
     "end_time": "2024-07-24T17:33:54.540280Z",
     "start_time": "2024-07-24T17:33:54.280852Z"
    }
   },
   "cell_type": "code",
   "source": [
    "\"\"\"\n",
    "Calculate Interpolation Constant, Define Interpolation Function\n",
    "\"\"\"\n",
    "\n",
    "iam_config = yaml.safe_load(open(f'{root_dir}/IAM/config.yaml', 'r'))\n",
    "iam_points_per_clean_character = iam_config['analysis']['points_per_clean_char']\n",
    "\n",
    "points = 0\n",
    "clean_characters = 0\n",
    "for ds in [d for d in data_sources if d != 'IAM']:\n",
    "    config = yaml.safe_load(open(f'{root_dir}/{ds}/config.yaml', 'r'))\n",
    "    points += config['analysis']['points']\n",
    "    clean_characters += config['analysis']['clean_characters']\n",
    "    \n",
    "points_per_clean_character = points / clean_characters\n",
    "interpolation_constant = iam_points_per_clean_character / points_per_clean_character\n",
    "print(f'Points per clean character: {points_per_clean_character}')\n",
    "print(f'Interpolation constant: {interpolation_constant}')\n",
    "\n",
    "def interpolate_strokes(strokes, constant):\n",
    "    interpolated_strokes = []\n",
    "    for stroke in strokes:\n",
    "        original_points = np.array(stroke)\n",
    "        original_num_points = len(stroke)\n",
    "        new_num_points = int(np.ceil(constant * original_num_points))\n",
    "        new_indices = np.linspace(0, original_num_points - 1, new_num_points)\n",
    "        x = original_points[:, 0]\n",
    "        new_x = np.interp(new_indices, np.arange(original_num_points), x).astype(int)\n",
    "        y = original_points[:, 1]\n",
    "        new_y = np.interp(new_indices, np.arange(original_num_points), y).astype(int)\n",
    "        new_points = np.column_stack((new_x, new_y))\n",
    "        interpolated_strokes.append(new_points)\n",
    "        \n",
    "    return interpolated_strokes"
   ],
   "id": "47445081cd0d80cd",
   "outputs": [
    {
     "ename": "ZeroDivisionError",
     "evalue": "division by zero",
     "output_type": "error",
     "traceback": [
      "\u001B[0;31m---------------------------------------------------------------------------\u001B[0m",
      "\u001B[0;31mZeroDivisionError\u001B[0m                         Traceback (most recent call last)",
      "Cell \u001B[0;32mIn[4], line 15\u001B[0m\n\u001B[1;32m     12\u001B[0m     points \u001B[38;5;241m+\u001B[39m\u001B[38;5;241m=\u001B[39m config[\u001B[38;5;124m'\u001B[39m\u001B[38;5;124manalysis\u001B[39m\u001B[38;5;124m'\u001B[39m][\u001B[38;5;124m'\u001B[39m\u001B[38;5;124mpoints\u001B[39m\u001B[38;5;124m'\u001B[39m]\n\u001B[1;32m     13\u001B[0m     clean_characters \u001B[38;5;241m+\u001B[39m\u001B[38;5;241m=\u001B[39m config[\u001B[38;5;124m'\u001B[39m\u001B[38;5;124manalysis\u001B[39m\u001B[38;5;124m'\u001B[39m][\u001B[38;5;124m'\u001B[39m\u001B[38;5;124mclean_characters\u001B[39m\u001B[38;5;124m'\u001B[39m]\n\u001B[0;32m---> 15\u001B[0m points_per_clean_character \u001B[38;5;241m=\u001B[39m \u001B[43mpoints\u001B[49m\u001B[43m \u001B[49m\u001B[38;5;241;43m/\u001B[39;49m\u001B[43m \u001B[49m\u001B[43mclean_characters\u001B[49m\n\u001B[1;32m     16\u001B[0m interpolation_constant \u001B[38;5;241m=\u001B[39m iam_points_per_clean_character \u001B[38;5;241m/\u001B[39m points_per_clean_character\n\u001B[1;32m     17\u001B[0m \u001B[38;5;28mprint\u001B[39m(\u001B[38;5;124mf\u001B[39m\u001B[38;5;124m'\u001B[39m\u001B[38;5;124mPoints per clean character: \u001B[39m\u001B[38;5;132;01m{\u001B[39;00mpoints_per_clean_character\u001B[38;5;132;01m}\u001B[39;00m\u001B[38;5;124m'\u001B[39m)\n",
      "\u001B[0;31mZeroDivisionError\u001B[0m: division by zero"
     ]
    }
   ],
   "execution_count": 4
  },
  {
   "metadata": {
    "ExecuteTime": {
     "end_time": "2024-07-24T17:33:55.151545Z",
     "start_time": "2024-07-24T17:33:55.130281Z"
    }
   },
   "cell_type": "code",
   "source": [
    "\"\"\"\n",
    "Calculate Scaling Constant, Define Scaling Function\n",
    "\"\"\"\n",
    "\n",
    "iam_config = yaml.safe_load(open(f'{root_dir}/IAM/config.yaml', 'r'))\n",
    "iam_width_per_char = iam_config['analysis']['width_per_char']\n",
    "\n",
    "width = 0\n",
    "characters = 0\n",
    "for ds in [d for d in data_sources if d != 'IAM']:\n",
    "    config = yaml.safe_load(open(f'{root_dir}/{ds}/config.yaml', 'r'))\n",
    "    width += config['analysis']['width']\n",
    "    characters += config['analysis']['characters']\n",
    "    \n",
    "width_per_character = width / characters\n",
    "scaling_constant = iam_width_per_char / width_per_character\n",
    "print(f'Width per character: {width_per_character}')\n",
    "print(f'Scaling constant: {scaling_constant}')\n",
    "\n",
    "\n",
    "def scale_strokes(strokes, constant):\n",
    "    new_strokes = []\n",
    "    for stroke in strokes:\n",
    "        new_stroke = []\n",
    "        for point in stroke:\n",
    "            scaled_point = [p * constant for p in point]\n",
    "            new_stroke.append(scaled_point)\n",
    "        new_strokes.append(new_stroke)\n",
    "        \n",
    "    return new_strokes"
   ],
   "id": "bb384e3d6c909e33",
   "outputs": [
    {
     "ename": "ZeroDivisionError",
     "evalue": "division by zero",
     "output_type": "error",
     "traceback": [
      "\u001B[0;31m---------------------------------------------------------------------------\u001B[0m",
      "\u001B[0;31mZeroDivisionError\u001B[0m                         Traceback (most recent call last)",
      "Cell \u001B[0;32mIn[5], line 15\u001B[0m\n\u001B[1;32m     12\u001B[0m     width \u001B[38;5;241m+\u001B[39m\u001B[38;5;241m=\u001B[39m config[\u001B[38;5;124m'\u001B[39m\u001B[38;5;124manalysis\u001B[39m\u001B[38;5;124m'\u001B[39m][\u001B[38;5;124m'\u001B[39m\u001B[38;5;124mwidth\u001B[39m\u001B[38;5;124m'\u001B[39m]\n\u001B[1;32m     13\u001B[0m     characters \u001B[38;5;241m+\u001B[39m\u001B[38;5;241m=\u001B[39m config[\u001B[38;5;124m'\u001B[39m\u001B[38;5;124manalysis\u001B[39m\u001B[38;5;124m'\u001B[39m][\u001B[38;5;124m'\u001B[39m\u001B[38;5;124mcharacters\u001B[39m\u001B[38;5;124m'\u001B[39m]\n\u001B[0;32m---> 15\u001B[0m width_per_character \u001B[38;5;241m=\u001B[39m \u001B[43mwidth\u001B[49m\u001B[43m \u001B[49m\u001B[38;5;241;43m/\u001B[39;49m\u001B[43m \u001B[49m\u001B[43mcharacters\u001B[49m\n\u001B[1;32m     16\u001B[0m scaling_constant \u001B[38;5;241m=\u001B[39m iam_width_per_char \u001B[38;5;241m/\u001B[39m width_per_character\n\u001B[1;32m     17\u001B[0m \u001B[38;5;28mprint\u001B[39m(\u001B[38;5;124mf\u001B[39m\u001B[38;5;124m'\u001B[39m\u001B[38;5;124mWidth per character: \u001B[39m\u001B[38;5;132;01m{\u001B[39;00mwidth_per_character\u001B[38;5;132;01m}\u001B[39;00m\u001B[38;5;124m'\u001B[39m)\n",
      "\u001B[0;31mZeroDivisionError\u001B[0m: division by zero"
     ]
    }
   ],
   "execution_count": 5
  },
  {
   "metadata": {
    "ExecuteTime": {
     "end_time": "2024-07-24T17:33:56.027760Z",
     "start_time": "2024-07-24T17:33:56.024840Z"
    }
   },
   "cell_type": "code",
   "source": [
    "\"\"\"\n",
    "Create new package directory\n",
    "\"\"\"\n",
    "\n",
    "if not os.path.exists(f'{package_root}/{package_name}/lines'):\n",
    "    os.makedirs(f'{package_root}/{package_name}/lines')\n",
    "else:\n",
    "    print('Package already exists.')"
   ],
   "id": "50ed876249ba10b8",
   "outputs": [],
   "execution_count": 6
  },
  {
   "metadata": {
    "ExecuteTime": {
     "end_time": "2024-07-24T17:34:00.707749Z",
     "start_time": "2024-07-24T17:33:57.005407Z"
    }
   },
   "cell_type": "code",
   "source": [
    "\"\"\"\n",
    "Copy IAM Lines to package\n",
    "\"\"\"\n",
    "\n",
    "if 'IAM' in data_sources:\n",
    "    iam_files = os.listdir(f'{root_dir}/IAM/lines')\n",
    "    for file in iam_files:\n",
    "        src = f'{root_dir}/IAM/lines/{file}'\n",
    "        dst = f'{package_root}/{package_name}/lines/{file}_IAM.pkl'\n",
    "        shutil.copy(src, dst)\n",
    "        "
   ],
   "id": "f675ce867f71bf74",
   "outputs": [],
   "execution_count": 7
  },
  {
   "metadata": {
    "ExecuteTime": {
     "end_time": "2024-07-24T17:34:01.606367Z",
     "start_time": "2024-07-24T17:34:01.601635Z"
    }
   },
   "cell_type": "code",
   "source": [
    "\"\"\"\n",
    "Interpolate, scale, and copy data to package\n",
    "\"\"\"\n",
    "\n",
    "for ds in [d for d in data_sources if d != 'IAM']:\n",
    "\n",
    "    \n",
    "    for file in os.listdir(f'{root_dir}/{ds}/lines'):\n",
    "        line = unpickle(f'{root_dir}/{ds}/lines/{file}')\n",
    "        strokes = line['strokes']\n",
    "        \n",
    "        # Interpolate and scale strokes\n",
    "        if 'interpolate' in data_modifications:\n",
    "            strokes = interpolate_strokes(strokes, interpolation_constant)\n",
    "        if 'scale' in data_modifications:\n",
    "            strokes = scale_strokes(strokes, scaling_constant)\n",
    "\n",
    "        # Save strokes to new file\n",
    "        with open(f'{package_root}/{package_name}/lines/{file}_{ds}.pkl', 'wb') as f:\n",
    "            pickle.dump({'transcript': line['transcript'], 'strokes': strokes}, f)\n",
    "        "
   ],
   "id": "6fabc8b13c7f85c1",
   "outputs": [],
   "execution_count": 8
  },
  {
   "metadata": {
    "ExecuteTime": {
     "end_time": "2024-07-24T17:34:04.551102Z",
     "start_time": "2024-07-24T17:34:02.858126Z"
    }
   },
   "cell_type": "code",
   "source": [
    "\"\"\"\n",
    "Remove long lines\n",
    "\"\"\"\n",
    "\n",
    "if not 'No adjustments' in lines_to_remove and len(lines_to_remove) == 1:\n",
    "    all_files = os.listdir(f'{package_root}/{package_name}/lines')\n",
    "    for file in all_files:\n",
    "        # open the file and see how many points are in the file\n",
    "        line = unpickle(f'{package_root}/{package_name}/lines/{file}')\n",
    "        points = 0\n",
    "        for stroke in line['strokes']:\n",
    "            points += len(stroke)\n",
    "        if points > int(lines_to_remove[0]):\n",
    "            os.remove(f'{package_root}/{package_name}/lines/{file}')"
   ],
   "id": "9056d249c9050049",
   "outputs": [],
   "execution_count": 9
  },
  {
   "metadata": {
    "ExecuteTime": {
     "end_time": "2024-07-24T17:34:06.714608Z",
     "start_time": "2024-07-24T17:34:05.963123Z"
    }
   },
   "cell_type": "code",
   "source": [
    "\"\"\"\n",
    "Shuffle and rename files in package\n",
    "\"\"\"\n",
    "\n",
    "files = os.listdir(f'{package_root}/{package_name}/lines')\n",
    "np.random.shuffle(files)\n",
    "for i, file in enumerate(files):\n",
    "    os.rename(f'{package_root}/{package_name}/lines/{file}', f'{package_root}/{package_name}/lines/{i}.pkl')"
   ],
   "id": "b546c4a189c1f37c",
   "outputs": [],
   "execution_count": 10
  },
  {
   "metadata": {
    "ExecuteTime": {
     "end_time": "2024-07-24T17:34:09.304767Z",
     "start_time": "2024-07-24T17:34:07.632400Z"
    }
   },
   "cell_type": "code",
   "source": [
    "\"\"\"\n",
    "Analyze new package\n",
    "\"\"\"\n",
    "\n",
    "# Initialize the dictionary to store the data of each dataset\n",
    "\n",
    "# analyze the characters in the transcript\n",
    "characters, spaces, clean_characters, char_dict = analyze_characters(package_root, package_name)\n",
    "points = analyze_points(package_root, package_name)\n",
    "width = analyze_width(package_root, package_name)\n",
    "data = {'characters': characters, 'spaces': spaces, 'clean_characters': clean_characters, 'points': points, 'width': width, 'char_dict': dict(char_dict)}\n",
    "\n"
   ],
   "id": "e977699f8a51be59",
   "outputs": [],
   "execution_count": 11
  },
  {
   "metadata": {
    "ExecuteTime": {
     "end_time": "2024-07-24T17:34:13.046752Z",
     "start_time": "2024-07-24T17:34:13.042328Z"
    }
   },
   "cell_type": "code",
   "source": [
    "\"\"\"\n",
    "Basic Calcs on the data\n",
    "\"\"\"\n",
    "\n",
    "data['points_per_char'] = data['points'] / data['characters']\n",
    "data['points_per_clean_char'] = data['points'] / data['clean_characters']\n",
    "data['width_per_char'] = data['width'] / data['characters']\n",
    "data['width_per_clean_char'] = data['width'] / data['clean_characters']\n",
    "data['clean_chars_per_char'] = data['clean_characters'] / data['characters']\n",
    "data['spaces_per_char'] = data['spaces'] / data['characters']"
   ],
   "id": "fc00b8508f889ce5",
   "outputs": [],
   "execution_count": 12
  },
  {
   "metadata": {
    "ExecuteTime": {
     "end_time": "2024-07-24T17:34:15.419249Z",
     "start_time": "2024-07-24T17:34:15.405662Z"
    }
   },
   "cell_type": "code",
   "source": [
    "\"\"\"\n",
    "Add analysis to a metadata file\n",
    "\"\"\"\n",
    "\n",
    "# add analysis to metadata file\n",
    "metadata = {'analysis': data}\n",
    "with open(f'{package_root}/{package_name}/config.yaml', 'w') as f:\n",
    "    yaml.dump(metadata, f)"
   ],
   "id": "5fd5a0582377c189",
   "outputs": [],
   "execution_count": 13
  },
  {
   "metadata": {
    "ExecuteTime": {
     "end_time": "2024-07-24T17:34:17.543007Z",
     "start_time": "2024-07-24T17:34:17.493334Z"
    }
   },
   "cell_type": "code",
   "source": [
    "\"\"\"\n",
    "View Analysis\n",
    "\"\"\"          \n",
    "\n",
    "# get analysis from IAM\n",
    "iam_config = yaml.safe_load(open(f'{root_dir}/IAM/config.yaml', 'r'))\n",
    "iam_analysis = iam_config['analysis']\n",
    "\n",
    "# display the analysis\n",
    "df = pd.DataFrame.from_dict({'IAM': iam_analysis, 'New': data}, orient='index')\n",
    "display(df)"
   ],
   "id": "89749906c3c6927d",
   "outputs": [
    {
     "data": {
      "text/plain": [
       "                                        character_dict  characters  \\\n",
       "IAM  {' ': 53115, '!': 166, '\"': 1840, '#': 90, '%'...      351868   \n",
       "New                                                NaN      215516   \n",
       "\n",
       "     clean_characters  clean_chars_per_char    lines   points  \\\n",
       "IAM            286741              0.814911  12187.0  7651948   \n",
       "New            174926              0.811661      NaN  4312692   \n",
       "\n",
       "     points_per_char  points_per_clean_char  spaces  spaces_per_char  \\\n",
       "IAM        21.746644              26.685922   53115         0.150951   \n",
       "New        20.011006              24.654380   32864         0.152490   \n",
       "\n",
       "        width  width_per_char  width_per_clean_char  \\\n",
       "IAM  63809067      181.343762            222.532066   \n",
       "New  41128909      190.839237            235.121760   \n",
       "\n",
       "                                             char_dict  \n",
       "IAM                                                NaN  \n",
       "New  {'A': 465, ' ': 32864, 's': 10734, 'p': 2922, ...  "
      ],
      "text/html": [
       "<div>\n",
       "<style scoped>\n",
       "    .dataframe tbody tr th:only-of-type {\n",
       "        vertical-align: middle;\n",
       "    }\n",
       "\n",
       "    .dataframe tbody tr th {\n",
       "        vertical-align: top;\n",
       "    }\n",
       "\n",
       "    .dataframe thead th {\n",
       "        text-align: right;\n",
       "    }\n",
       "</style>\n",
       "<table border=\"1\" class=\"dataframe\">\n",
       "  <thead>\n",
       "    <tr style=\"text-align: right;\">\n",
       "      <th></th>\n",
       "      <th>character_dict</th>\n",
       "      <th>characters</th>\n",
       "      <th>clean_characters</th>\n",
       "      <th>clean_chars_per_char</th>\n",
       "      <th>lines</th>\n",
       "      <th>points</th>\n",
       "      <th>points_per_char</th>\n",
       "      <th>points_per_clean_char</th>\n",
       "      <th>spaces</th>\n",
       "      <th>spaces_per_char</th>\n",
       "      <th>width</th>\n",
       "      <th>width_per_char</th>\n",
       "      <th>width_per_clean_char</th>\n",
       "      <th>char_dict</th>\n",
       "    </tr>\n",
       "  </thead>\n",
       "  <tbody>\n",
       "    <tr>\n",
       "      <th>IAM</th>\n",
       "      <td>{' ': 53115, '!': 166, '\"': 1840, '#': 90, '%'...</td>\n",
       "      <td>351868</td>\n",
       "      <td>286741</td>\n",
       "      <td>0.814911</td>\n",
       "      <td>12187.0</td>\n",
       "      <td>7651948</td>\n",
       "      <td>21.746644</td>\n",
       "      <td>26.685922</td>\n",
       "      <td>53115</td>\n",
       "      <td>0.150951</td>\n",
       "      <td>63809067</td>\n",
       "      <td>181.343762</td>\n",
       "      <td>222.532066</td>\n",
       "      <td>NaN</td>\n",
       "    </tr>\n",
       "    <tr>\n",
       "      <th>New</th>\n",
       "      <td>NaN</td>\n",
       "      <td>215516</td>\n",
       "      <td>174926</td>\n",
       "      <td>0.811661</td>\n",
       "      <td>NaN</td>\n",
       "      <td>4312692</td>\n",
       "      <td>20.011006</td>\n",
       "      <td>24.654380</td>\n",
       "      <td>32864</td>\n",
       "      <td>0.152490</td>\n",
       "      <td>41128909</td>\n",
       "      <td>190.839237</td>\n",
       "      <td>235.121760</td>\n",
       "      <td>{'A': 465, ' ': 32864, 's': 10734, 'p': 2922, ...</td>\n",
       "    </tr>\n",
       "  </tbody>\n",
       "</table>\n",
       "</div>"
      ]
     },
     "metadata": {},
     "output_type": "display_data"
    }
   ],
   "execution_count": 14
  },
  {
   "metadata": {},
   "cell_type": "markdown",
   "source": "",
   "id": "27ecf29a2599d1f1"
  },
  {
   "metadata": {
    "ExecuteTime": {
     "end_time": "2024-07-24T17:34:29.848459Z",
     "start_time": "2024-07-24T17:34:29.828492Z"
    }
   },
   "cell_type": "code",
   "source": [
    "\"\"\"\n",
    "Length of the data (training, validation)\n",
    "\"\"\"\n",
    "\n",
    "# get the length of the data\n",
    "length = len(os.listdir(f'{package_root}/{package_name}/lines'))\n",
    "train_length = int(length * 0.85)\n",
    "val_length = length - train_length\n",
    "print(f'Training Length: {train_length}')\n",
    "print(f'Validation Length: {val_length}')"
   ],
   "id": "6d895fe6aad54841",
   "outputs": [
    {
     "name": "stdout",
     "output_type": "stream",
     "text": [
      "Training Length: 6977\n",
      "Validation Length: 1232\n"
     ]
    }
   ],
   "execution_count": 15
  },
  {
   "metadata": {},
   "cell_type": "code",
   "source": "",
   "id": "b78c2275530882fc",
   "outputs": [],
   "execution_count": null
  }
 ],
 "metadata": {
  "kernelspec": {
   "display_name": "Python 3",
   "language": "python",
   "name": "python3"
  },
  "language_info": {
   "codemirror_mode": {
    "name": "ipython",
    "version": 2
   },
   "file_extension": ".py",
   "mimetype": "text/x-python",
   "name": "python",
   "nbconvert_exporter": "python",
   "pygments_lexer": "ipython2",
   "version": "2.7.6"
  }
 },
 "nbformat": 4,
 "nbformat_minor": 5
}
