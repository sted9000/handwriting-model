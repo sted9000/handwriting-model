{
 "cells": [
  {
   "metadata": {
    "ExecuteTime": {
     "end_time": "2024-07-24T09:50:28.975427Z",
     "start_time": "2024-07-24T09:50:26.689026Z"
    }
   },
   "cell_type": "code",
   "source": [
    "import os\n",
    "import pickle\n",
    "import numpy as np\n",
    "import torch\n",
    "from sklearn.model_selection import train_test_split\n",
    "from matplotlib import pyplot as plt"
   ],
   "id": "fa0b7041f1bbca30",
   "outputs": [],
   "execution_count": 1
  },
  {
   "metadata": {
    "ExecuteTime": {
     "end_time": "2024-07-24T09:50:31.710893Z",
     "start_time": "2024-07-24T09:50:31.705082Z"
    }
   },
   "cell_type": "code",
   "source": [
    "# Define the directory containing the data files\n",
    "data_directory = '../data/data/speech/lines'"
   ],
   "id": "98eee2e16886aab5",
   "outputs": [],
   "execution_count": 2
  },
  {
   "metadata": {
    "ExecuteTime": {
     "end_time": "2024-07-24T09:50:34.385204Z",
     "start_time": "2024-07-24T09:50:34.381104Z"
    }
   },
   "cell_type": "code",
   "source": [
    "# Function to load data from a single .pkl file\n",
    "def load_data_from_file(file_path):\n",
    "    with open(file_path, 'rb') as file:\n",
    "        data = pickle.load(file)\n",
    "    return data['strokes']"
   ],
   "id": "89308d2de6f4762d",
   "outputs": [],
   "execution_count": 3
  },
  {
   "metadata": {
    "ExecuteTime": {
     "end_time": "2024-07-24T09:50:37.862232Z",
     "start_time": "2024-07-24T09:50:37.856894Z"
    }
   },
   "cell_type": "code",
   "source": [
    "def abs_to_rel(points, index, first_point_zero):\n",
    "    if not points:\n",
    "        return []\n",
    "    \n",
    "    print(points)\n",
    "    offsets = []\n",
    "    first_point = points[0]\n",
    "    prev_absolute = first_point[index]\n",
    "    \n",
    "    if not first_point_zero:\n",
    "        offsets = [points[0]]\n",
    "        points = points[1:]\n",
    "    \n",
    "    for p in points:\n",
    "        new_absolute = p[index]\n",
    "        p[index] = p[index] - prev_absolute\n",
    "        offsets.append(p)\n",
    "        prev_absolute = new_absolute\n",
    "        \n",
    "    return offsets"
   ],
   "id": "ab2fe0031d47cd12",
   "outputs": [],
   "execution_count": 4
  },
  {
   "metadata": {
    "ExecuteTime": {
     "end_time": "2024-07-24T09:50:40.051831Z",
     "start_time": "2024-07-24T09:50:39.824400Z"
    }
   },
   "cell_type": "code",
   "source": [
    "# Load all data from files in the directory\n",
    "all_data = []\n",
    "for file_name in os.listdir(data_directory):\n",
    "    if file_name not in ['.DS_Store']:\n",
    "        file_path = os.path.join(data_directory, file_name)\n",
    "        line_data = load_data_from_file(file_path)\n",
    "        all_data.append(line_data)"
   ],
   "id": "8cd96a5cb7fca908",
   "outputs": [],
   "execution_count": 5
  },
  {
   "metadata": {
    "ExecuteTime": {
     "end_time": "2024-07-24T09:50:42.644056Z",
     "start_time": "2024-07-24T09:50:41.934224Z"
    }
   },
   "cell_type": "code",
   "source": [
    "# Flatten the data preserving the line structure and creating the end_of_stroke_boolean\n",
    "# Input points are (x, y, pen_pressure)\n",
    "# Output points are (x, y, end_of_stroke_boolean, pen_pressure)\n",
    "sequences = []\n",
    "for line in all_data:\n",
    "    sequence = []\n",
    "    for stroke in line:\n",
    "        # Add the end_of_stroke_boolean\n",
    "        for i, point in enumerate(stroke):\n",
    "            if i == len(stroke) - 1:\n",
    "                sequence.append([point[0], point[1], 1, point[2]])\n",
    "            else:\n",
    "                sequence.append([point[0], point[1], 0, point[2]])\n",
    "\n",
    "    # Change x, y, and pen pressure to relative coordinates\n",
    "    sequence = abs_to_rel(sequence, 0, True)\n",
    "    sequence = abs_to_rel(sequence, 1, True)\n",
    "    sequence = abs_to_rel(sequence, 3, False)\n",
    "\n",
    "    sequences.append(sequence)"
   ],
   "id": "fbbf0c49ece8d83e",
   "outputs": [
    {
     "name": "stderr",
     "output_type": "stream",
     "text": [
      "IOPub data rate exceeded.\n",
      "The Jupyter server will temporarily stop sending output\n",
      "to the client in order to avoid crashing it.\n",
      "To change this limit, set the config variable\n",
      "`--ServerApp.iopub_data_rate_limit`.\n",
      "\n",
      "Current values:\n",
      "ServerApp.iopub_data_rate_limit=1000000.0 (bytes/sec)\n",
      "ServerApp.rate_limit_window=3.0 (secs)\n",
      "\n"
     ]
    }
   ],
   "execution_count": 6
  },
  {
   "metadata": {
    "ExecuteTime": {
     "end_time": "2024-07-24T09:50:48.070612Z",
     "start_time": "2024-07-24T09:50:47.887038Z"
    }
   },
   "cell_type": "code",
   "source": [
    "def plot_line_from_strokes_thick(sequence):\n",
    "    \n",
    "    # Turn sequence into strokes by turning the relative coordinates back into absolute coordinates\n",
    "    points = [sequence[0]]\n",
    "    for i in range(1, len(sequence)):\n",
    "        x, y, eos, p = sequence[i]\n",
    "        prev_x, prev_y, _, prev_p = points[-1]\n",
    "        points.append([x + prev_x, y + prev_y, eos, p + prev_p])\n",
    "        \n",
    "        \n",
    "    strokes = []\n",
    "    stroke = []\n",
    "    for point in points:\n",
    "        if point[2] == 1:\n",
    "            stroke.append(point)\n",
    "            strokes.append(stroke)\n",
    "            stroke = []\n",
    "        else:\n",
    "            stroke.append(point)\n",
    "            \n",
    "    \n",
    "    # Set the size of the plot\n",
    "    plt.figure(figsize=(15, 5))\n",
    "    \n",
    "    for stroke in strokes:\n",
    "        x = [point[0] for point in stroke]\n",
    "        y = [point[1] for point in stroke]\n",
    "        pen_pressure = [point[3] for point in stroke]\n",
    "\n",
    "        # Normalize the pen pressure to be between 0 and 4\n",
    "        pen_pressure_norm = [(pressure - min(pen_pressure)) / (max(pen_pressure) - min(pen_pressure)) * 4 for pressure\n",
    "                             in pen_pressure]\n",
    "\n",
    "        # Invert the y axis\n",
    "        y = [-i for i in y]\n",
    "\n",
    "        # Plot each segment with the corresponding pen pressure\n",
    "        for i in range(len(x) - 1):\n",
    "            color_value = (pen_pressure[i] - min(pen_pressure)) / (max(pen_pressure) - min(pen_pressure))\n",
    "            plt.plot([x[i], x[i + 1]], [y[i], y[i + 1]], linewidth=pen_pressure_norm[i],\n",
    "                     color=plt.cm.viridis(color_value))\n",
    "\n",
    "    # Stretch the plot to match the aspect ratio of the text\n",
    "    plt.gca().set_aspect('equal', adjustable='box')\n",
    "\n",
    "    # Add a colorbar for reference\n",
    "    sm = plt.cm.ScalarMappable(cmap='viridis', norm=plt.Normalize(vmin=min(p[3] for stroke in strokes for p in stroke),\n",
    "                                                                  vmax=max(p[3] for stroke in strokes for p in stroke)))\n",
    "    plt.colorbar(sm, ax=plt.gca(), label='Pen Pressure', orientation='horizontal')\n",
    "\n",
    "    return plt.show()\n",
    "\n",
    "\n",
    "plot_line_from_strokes_thick(sequences[3])"
   ],
   "id": "9c145bbb903289a8",
   "outputs": [
    {
     "data": {
      "text/plain": [
       "<Figure size 1500x500 with 2 Axes>"
      ],
      "image/png": "[encoded data removed]"
     },
     "metadata": {},
     "output_type": "display_data"
    }
   ],
   "execution_count": 7
  },
  {
   "metadata": {
    "ExecuteTime": {
     "end_time": "2024-07-24T09:50:58.700352Z",
     "start_time": "2024-07-24T09:50:58.600535Z"
    }
   },
   "cell_type": "code",
   "source": [
    "# Convert to numpy array\n",
    "sequences = [np.array(seq) for seq in sequences]"
   ],
   "id": "ea4b794338061667",
   "outputs": [],
   "execution_count": 8
  },
  {
   "metadata": {
    "ExecuteTime": {
     "end_time": "2024-07-24T09:51:00.152677Z",
     "start_time": "2024-07-24T09:51:00.121381Z"
    }
   },
   "cell_type": "code",
   "source": [
    "# Ensure that all sequences are of the same length by padding them\n",
    "max_length = max(len(seq) for seq in sequences)\n",
    "X = []\n",
    "y = []\n",
    "for seq in sequences:\n",
    "    if len(seq) < max_length:\n",
    "        padding = np.zeros((max_length - len(seq), 4))\n",
    "        seq = np.vstack([seq, padding])\n",
    "    X.append(seq[:, :3])  # (x_coordinate, y_coordinate, end_of_stroke_boolean)\n",
    "    y.append(seq[:, 3])  # pen_pressure\n",
    "X = np.array(X)\n",
    "y = np.array(y)"
   ],
   "id": "6ad0bd6cd81a6898",
   "outputs": [],
   "execution_count": 9
  },
  {
   "metadata": {
    "ExecuteTime": {
     "end_time": "2024-07-24T09:51:02.653984Z",
     "start_time": "2024-07-24T09:51:02.620998Z"
    }
   },
   "cell_type": "code",
   "source": [
    "# Split the data\n",
    "X_train, X_val, y_train, y_val = train_test_split(X, y, test_size=0.2, random_state=42)"
   ],
   "id": "101d699254829376",
   "outputs": [],
   "execution_count": 10
  },
  {
   "metadata": {
    "ExecuteTime": {
     "end_time": "2024-07-24T09:51:04.501761Z",
     "start_time": "2024-07-24T09:51:04.485942Z"
    }
   },
   "cell_type": "code",
   "source": [
    "# Convert to tensors\n",
    "X_train = torch.tensor(X_train, dtype=torch.float32)\n",
    "y_train = torch.tensor(y_train, dtype=torch.float32)\n",
    "X_val = torch.tensor(X_val, dtype=torch.float32)\n",
    "y_val = torch.tensor(y_val, dtype=torch.float32)"
   ],
   "id": "6d14599a8e5102be",
   "outputs": [],
   "execution_count": 11
  },
  {
   "metadata": {
    "ExecuteTime": {
     "end_time": "2024-07-24T09:51:06.918777Z",
     "start_time": "2024-07-24T09:51:06.840619Z"
    }
   },
   "cell_type": "code",
   "source": [
    "# Save the datasets\n",
    "torch.save((X_train, y_train), 'train_data.pt')\n",
    "torch.save((X_val, y_val), 'val_data.pt')"
   ],
   "id": "835d02f39366e22b",
   "outputs": [],
   "execution_count": 12
  },
  {
   "metadata": {},
   "cell_type": "code",
   "source": "",
   "id": "500fbe698d7f8b47",
   "outputs": [],
   "execution_count": null
  }
 ],
 "metadata": {
  "kernelspec": {
   "display_name": "Python 3",
   "language": "python",
   "name": "python3"
  },
  "language_info": {
   "codemirror_mode": {
    "name": "ipython",
    "version": 2
   },
   "file_extension": ".py",
   "mimetype": "text/x-python",
   "name": "python",
   "nbconvert_exporter": "python",
   "pygments_lexer": "ipython2",
   "version": "2.7.6"
  }
 },
 "nbformat": 4,
 "nbformat_minor": 5
}
