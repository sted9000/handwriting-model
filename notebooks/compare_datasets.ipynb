{
 "cells": [
  {
   "cell_type": "code",
   "id": "initial_id",
   "metadata": {
    "collapsed": true,
    "ExecuteTime": {
     "end_time": "2024-07-19T19:21:30.841879Z",
     "start_time": "2024-07-19T19:21:30.042925Z"
    }
   },
   "source": [
    "import os\n",
    "import yaml\n",
    "import matplotlib.pyplot as plt\n",
    "import string\n",
    "from data.utils import CheckboxSelector\n",
    "\n",
    "root_dir = '../data/data'\n",
    "data_sources = [d for d in os.listdir(root_dir) if os.path.isdir(f'{root_dir}/{d}') and d != '__pycache__']\n",
    "\n",
    "\"\"\"\n",
    "Select datasets to compare\n",
    "\"\"\"\n",
    "\n",
    "data_selector_a = CheckboxSelector(data_sources, 'Select data sources (A)')\n",
    "data_selector_a.display()\n",
    "\n",
    "\n",
    "data_selector_b = CheckboxSelector(data_sources, 'Select data sources (B)')\n",
    "data_selector_b.display()"
   ],
   "outputs": [
    {
     "name": "stderr",
     "output_type": "stream",
     "text": [
      "2024-07-19 15:21:30,659 - uim - INFO - Completed configuring logger()!\n",
      "2024-07-19 15:21:30,716 - uim.model.ink - INFO - Completed configuring logger()!\n",
      "2024-07-19 15:21:30,716 - uim.model.ink - INFO - Completed configuring logger()!\n"
     ]
    },
    {
     "name": "stdout",
     "output_type": "stream",
     "text": [
      "Select data sources (A)\n"
     ]
    },
    {
     "data": {
      "text/plain": [
       "Checkbox(value=False, description='twelve_numbers')"
      ],
      "application/vnd.jupyter.widget-view+json": {
       "version_major": 2,
       "version_minor": 0,
       "model_id": "efb5c4e126094ccebd5b292807f24dd3"
      }
     },
     "metadata": {},
     "output_type": "display_data"
    },
    {
     "data": {
      "text/plain": [
       "Checkbox(value=False, description='pangram_jordan')"
      ],
      "application/vnd.jupyter.widget-view+json": {
       "version_major": 2,
       "version_minor": 0,
       "model_id": "74a9665496264695ba8453ba3f151006"
      }
     },
     "metadata": {},
     "output_type": "display_data"
    },
    {
     "data": {
      "text/plain": [
       "Checkbox(value=False, description='fliff')"
      ],
      "application/vnd.jupyter.widget-view+json": {
       "version_major": 2,
       "version_minor": 0,
       "model_id": "073567a45ab04b3b9e4a3a5dd1e12962"
      }
     },
     "metadata": {},
     "output_type": "display_data"
    },
    {
     "data": {
      "text/plain": [
       "Checkbox(value=False, description='fortune_coins')"
      ],
      "application/vnd.jupyter.widget-view+json": {
       "version_major": 2,
       "version_minor": 0,
       "model_id": "82bd67510f0c4a278c534f061ee6e1c1"
      }
     },
     "metadata": {},
     "output_type": "display_data"
    },
    {
     "data": {
      "text/plain": [
       "Checkbox(value=False, description='player_name')"
      ],
      "application/vnd.jupyter.widget-view+json": {
       "version_major": 2,
       "version_minor": 0,
       "model_id": "21e7bfc9068647e19644b7dddadcf69d"
      }
     },
     "metadata": {},
     "output_type": "display_data"
    },
    {
     "data": {
      "text/plain": [
       "Checkbox(value=False, description='speech_jordan')"
      ],
      "application/vnd.jupyter.widget-view+json": {
       "version_major": 2,
       "version_minor": 0,
       "model_id": "3cb095e5e38849f0bc33e7654d251abb"
      }
     },
     "metadata": {},
     "output_type": "display_data"
    },
    {
     "data": {
      "text/plain": [
       "Checkbox(value=False, description='high5')"
      ],
      "application/vnd.jupyter.widget-view+json": {
       "version_major": 2,
       "version_minor": 0,
       "model_id": "4e48c7df689349258ae77b9da6425e84"
      }
     },
     "metadata": {},
     "output_type": "display_data"
    },
    {
     "data": {
      "text/plain": [
       "Checkbox(value=False, description='speech')"
      ],
      "application/vnd.jupyter.widget-view+json": {
       "version_major": 2,
       "version_minor": 0,
       "model_id": "187881824e1b4329b844d239d8a98f55"
      }
     },
     "metadata": {},
     "output_type": "display_data"
    },
    {
     "data": {
      "text/plain": [
       "Checkbox(value=False, description='special_characters')"
      ],
      "application/vnd.jupyter.widget-view+json": {
       "version_major": 2,
       "version_minor": 0,
       "model_id": "1f69a66a7777406faf4574db897f391a"
      }
     },
     "metadata": {},
     "output_type": "display_data"
    },
    {
     "data": {
      "text/plain": [
       "Checkbox(value=False, description='number')"
      ],
      "application/vnd.jupyter.widget-view+json": {
       "version_major": 2,
       "version_minor": 0,
       "model_id": "4d876d00cc6246a8b39ab72e75e72a90"
      }
     },
     "metadata": {},
     "output_type": "display_data"
    },
    {
     "data": {
      "text/plain": [
       "Checkbox(value=False, description='IAM')"
      ],
      "application/vnd.jupyter.widget-view+json": {
       "version_major": 2,
       "version_minor": 0,
       "model_id": "c853429beb04479288af6aad07828d00"
      }
     },
     "metadata": {},
     "output_type": "display_data"
    },
    {
     "data": {
      "text/plain": [
       "Checkbox(value=False, description='chumba_v2_jordan')"
      ],
      "application/vnd.jupyter.widget-view+json": {
       "version_major": 2,
       "version_minor": 0,
       "model_id": "5edb8b2eff7b49e3a7ef2e6f3b844bc9"
      }
     },
     "metadata": {},
     "output_type": "display_data"
    },
    {
     "data": {
      "text/plain": [
       "Checkbox(value=False, description='address')"
      ],
      "application/vnd.jupyter.widget-view+json": {
       "version_major": 2,
       "version_minor": 0,
       "model_id": "5148212b1f6e46dba596252df6dcf1e3"
      }
     },
     "metadata": {},
     "output_type": "display_data"
    },
    {
     "data": {
      "text/plain": [
       "Checkbox(value=False, description='chumba_v2')"
      ],
      "application/vnd.jupyter.widget-view+json": {
       "version_major": 2,
       "version_minor": 0,
       "model_id": "844c36c0da0b4b798213a7d66441b15c"
      }
     },
     "metadata": {},
     "output_type": "display_data"
    },
    {
     "data": {
      "text/plain": [
       "Checkbox(value=False, description='chumba')"
      ],
      "application/vnd.jupyter.widget-view+json": {
       "version_major": 2,
       "version_minor": 0,
       "model_id": "300afa4c83e949388853afd6aaa95d48"
      }
     },
     "metadata": {},
     "output_type": "display_data"
    },
    {
     "data": {
      "text/plain": [
       "Checkbox(value=False, description='pangram')"
      ],
      "application/vnd.jupyter.widget-view+json": {
       "version_major": 2,
       "version_minor": 0,
       "model_id": "de8df61018714a3683731cd732b14fcd"
      }
     },
     "metadata": {},
     "output_type": "display_data"
    },
    {
     "data": {
      "text/plain": [
       "Checkbox(value=False, description='email')"
      ],
      "application/vnd.jupyter.widget-view+json": {
       "version_major": 2,
       "version_minor": 0,
       "model_id": "2cbb0a81cee2484d8fb67b6512f5fbd2"
      }
     },
     "metadata": {},
     "output_type": "display_data"
    },
    {
     "name": "stdout",
     "output_type": "stream",
     "text": [
      "Select data sources (B)\n"
     ]
    },
    {
     "data": {
      "text/plain": [
       "Checkbox(value=False, description='twelve_numbers')"
      ],
      "application/vnd.jupyter.widget-view+json": {
       "version_major": 2,
       "version_minor": 0,
       "model_id": "742ed15cfc8446efb96d8fa5685ccebe"
      }
     },
     "metadata": {},
     "output_type": "display_data"
    },
    {
     "data": {
      "text/plain": [
       "Checkbox(value=False, description='pangram_jordan')"
      ],
      "application/vnd.jupyter.widget-view+json": {
       "version_major": 2,
       "version_minor": 0,
       "model_id": "5f516d9e142b47c8ac5d4c5778003afb"
      }
     },
     "metadata": {},
     "output_type": "display_data"
    },
    {
     "data": {
      "text/plain": [
       "Checkbox(value=False, description='fliff')"
      ],
      "application/vnd.jupyter.widget-view+json": {
       "version_major": 2,
       "version_minor": 0,
       "model_id": "49d84c24b5384f3eab8ec905ac396c7f"
      }
     },
     "metadata": {},
     "output_type": "display_data"
    },
    {
     "data": {
      "text/plain": [
       "Checkbox(value=False, description='fortune_coins')"
      ],
      "application/vnd.jupyter.widget-view+json": {
       "version_major": 2,
       "version_minor": 0,
       "model_id": "54f00a6596da4c53ae1b766a213f6c28"
      }
     },
     "metadata": {},
     "output_type": "display_data"
    },
    {
     "data": {
      "text/plain": [
       "Checkbox(value=False, description='player_name')"
      ],
      "application/vnd.jupyter.widget-view+json": {
       "version_major": 2,
       "version_minor": 0,
       "model_id": "f27345fbfd87437988d950b65c4b0f36"
      }
     },
     "metadata": {},
     "output_type": "display_data"
    },
    {
     "data": {
      "text/plain": [
       "Checkbox(value=False, description='speech_jordan')"
      ],
      "application/vnd.jupyter.widget-view+json": {
       "version_major": 2,
       "version_minor": 0,
       "model_id": "247ac9d4366b45d5b8defbcfe4aa9160"
      }
     },
     "metadata": {},
     "output_type": "display_data"
    },
    {
     "data": {
      "text/plain": [
       "Checkbox(value=False, description='high5')"
      ],
      "application/vnd.jupyter.widget-view+json": {
       "version_major": 2,
       "version_minor": 0,
       "model_id": "de8cbbc2e5054997b5a5083cf1cd4832"
      }
     },
     "metadata": {},
     "output_type": "display_data"
    },
    {
     "data": {
      "text/plain": [
       "Checkbox(value=False, description='speech')"
      ],
      "application/vnd.jupyter.widget-view+json": {
       "version_major": 2,
       "version_minor": 0,
       "model_id": "9a7aab613941412c82297dedbc17a9c7"
      }
     },
     "metadata": {},
     "output_type": "display_data"
    },
    {
     "data": {
      "text/plain": [
       "Checkbox(value=False, description='special_characters')"
      ],
      "application/vnd.jupyter.widget-view+json": {
       "version_major": 2,
       "version_minor": 0,
       "model_id": "53b03f50e9d0412eb598be4bf9f0641c"
      }
     },
     "metadata": {},
     "output_type": "display_data"
    },
    {
     "data": {
      "text/plain": [
       "Checkbox(value=False, description='number')"
      ],
      "application/vnd.jupyter.widget-view+json": {
       "version_major": 2,
       "version_minor": 0,
       "model_id": "78172b688557451b8334916b5c689e7c"
      }
     },
     "metadata": {},
     "output_type": "display_data"
    },
    {
     "data": {
      "text/plain": [
       "Checkbox(value=False, description='IAM')"
      ],
      "application/vnd.jupyter.widget-view+json": {
       "version_major": 2,
       "version_minor": 0,
       "model_id": "9770e0485158449fa17dcf775fc37c3c"
      }
     },
     "metadata": {},
     "output_type": "display_data"
    },
    {
     "data": {
      "text/plain": [
       "Checkbox(value=False, description='chumba_v2_jordan')"
      ],
      "application/vnd.jupyter.widget-view+json": {
       "version_major": 2,
       "version_minor": 0,
       "model_id": "fefa666a3384495b8bb91c6e4db6f02e"
      }
     },
     "metadata": {},
     "output_type": "display_data"
    },
    {
     "data": {
      "text/plain": [
       "Checkbox(value=False, description='address')"
      ],
      "application/vnd.jupyter.widget-view+json": {
       "version_major": 2,
       "version_minor": 0,
       "model_id": "1a51aa5b5b034662b5bab8579ca2cde7"
      }
     },
     "metadata": {},
     "output_type": "display_data"
    },
    {
     "data": {
      "text/plain": [
       "Checkbox(value=False, description='chumba_v2')"
      ],
      "application/vnd.jupyter.widget-view+json": {
       "version_major": 2,
       "version_minor": 0,
       "model_id": "182e5bb88a9f4885af91ea4cb21d5e59"
      }
     },
     "metadata": {},
     "output_type": "display_data"
    },
    {
     "data": {
      "text/plain": [
       "Checkbox(value=False, description='chumba')"
      ],
      "application/vnd.jupyter.widget-view+json": {
       "version_major": 2,
       "version_minor": 0,
       "model_id": "40858b2b31fc4277858a3809171beaf8"
      }
     },
     "metadata": {},
     "output_type": "display_data"
    },
    {
     "data": {
      "text/plain": [
       "Checkbox(value=False, description='pangram')"
      ],
      "application/vnd.jupyter.widget-view+json": {
       "version_major": 2,
       "version_minor": 0,
       "model_id": "11230145e09a4341a0ede6bbd23b546e"
      }
     },
     "metadata": {},
     "output_type": "display_data"
    },
    {
     "data": {
      "text/plain": [
       "Checkbox(value=False, description='email')"
      ],
      "application/vnd.jupyter.widget-view+json": {
       "version_major": 2,
       "version_minor": 0,
       "model_id": "36cc7aa760d34457a9a846a9f855deb2"
      }
     },
     "metadata": {},
     "output_type": "display_data"
    }
   ],
   "execution_count": 1
  },
  {
   "metadata": {
    "ExecuteTime": {
     "end_time": "2024-07-19T19:21:54.983488Z",
     "start_time": "2024-07-19T19:21:54.971341Z"
    }
   },
   "cell_type": "code",
   "source": [
    "\"\"\"\n",
    "Set selections to variables\n",
    "\"\"\"\n",
    "\n",
    "data_sources_a = data_selector_a.get_selected_items()\n",
    "data_sources_b = data_selector_b.get_selected_items()"
   ],
   "id": "3e947fc126c8b1b9",
   "outputs": [],
   "execution_count": 2
  },
  {
   "metadata": {
    "ExecuteTime": {
     "end_time": "2024-07-19T19:21:55.770623Z",
     "start_time": "2024-07-19T19:21:55.705518Z"
    }
   },
   "cell_type": "code",
   "source": [
    "\"\"\"\n",
    "Combine analysis for data_sources\n",
    "\"\"\"\n",
    "\n",
    "def combine_analysis(data_sources, root_dir):\n",
    "    combined_analysis = {}\n",
    "    for ds in data_sources:\n",
    "        # open the config.yaml file\n",
    "        with open(f'{root_dir}/{ds}/config.yaml', 'r') as f:\n",
    "            config = yaml.safe_load(f)\n",
    "        analysis = config['analysis']\n",
    "        for key, value in analysis.items():\n",
    "            if key not in combined_analysis:\n",
    "                combined_analysis[key] = value\n",
    "            else:\n",
    "                # If value is a dictionary, update the existing dictionary\n",
    "                if isinstance(value, dict) and isinstance(combined_analysis[key], dict):\n",
    "                    for sub_key, sub_value in value.items():\n",
    "                        if sub_key not in combined_analysis[key]:\n",
    "                            combined_analysis[key][sub_key] = sub_value\n",
    "                        else:\n",
    "                            combined_analysis[key][sub_key] += sub_value\n",
    "                else:\n",
    "                    combined_analysis[key] += value\n",
    "    return combined_analysis\n",
    "\n",
    "combined_analysis_a = combine_analysis(data_sources_a, root_dir)\n",
    "combined_analysis_b = combine_analysis(data_sources_b, root_dir)"
   ],
   "id": "b4d3543e3fd62da6",
   "outputs": [],
   "execution_count": 3
  },
  {
   "metadata": {
    "ExecuteTime": {
     "end_time": "2024-07-19T19:36:11.700082Z",
     "start_time": "2024-07-19T19:36:11.332757Z"
    }
   },
   "cell_type": "code",
   "source": [
    "import matplotlib.pyplot as plt\n",
    "import string\n",
    "\n",
    "# Custom sort function to order: Uppercase A-Z, Lowercase a-z, Numbers 0-9, then Symbols\n",
    "def custom_sort(key):\n",
    "    if key in string.ascii_uppercase:\n",
    "        return (0, key)\n",
    "    elif key in string.ascii_lowercase:\n",
    "        return (1, key)\n",
    "    elif key in string.digits:\n",
    "        return (2, key)\n",
    "    else:\n",
    "        return (3, key)\n",
    "\n",
    "# Combine and sort keys, excluding spaces\n",
    "all_keys = set(combined_analysis_a['character_dict'].keys()).union(set(combined_analysis_b['character_dict'].keys()))\n",
    "all_keys.discard(' ')  # Remove space from the keys\n",
    "sorted_keys = sorted(all_keys, key=custom_sort)\n",
    "\n",
    "# Get sorted values\n",
    "sorted_values_a = [combined_analysis_a['character_dict'].get(key, 0) for key in sorted_keys]\n",
    "sorted_values_b = [combined_analysis_b['character_dict'].get(key, 0) for key in sorted_keys]\n",
    "\n",
    "# Plot the combined analysis's character_dict in a single plot\n",
    "fig, ax = plt.subplots(figsize=(5, 15))  # Adjusted plot size\n",
    "\n",
    "bar_width = 0.4\n",
    "y_positions = range(len(sorted_keys))\n",
    "\n",
    "# Plot for combined_analysis_a\n",
    "ax.barh(y_positions, sorted_values_a, height=bar_width, label='IAM', color='blue', alpha=0.7)\n",
    "\n",
    "# Plot for combined_analysis_b (shifted by bar_width)\n",
    "ax.barh([y + bar_width for y in y_positions], sorted_values_b, height=bar_width, label='My Handwriting', color='orange', alpha=0.7)\n",
    "\n",
    "ax.set_yticks([y + bar_width / 2 for y in y_positions])\n",
    "ax.set_yticklabels(sorted_keys)\n",
    "ax.set_xlabel('Frequency')\n",
    "ax.set_ylabel('Character')\n",
    "ax.set_title('Character Counts')\n",
    "ax.legend()\n",
    "\n",
    "plt.tight_layout()  # Adjust layout to prevent overlap\n",
    "plt.show()\n"
   ],
   "id": "85495506b8985e13",
   "outputs": [
    {
     "data": {
      "text/plain": [
       "<Figure size 500x1500 with 1 Axes>"
      ],
      "image/png": "[encoded data removed]"
     },
     "metadata": {},
     "output_type": "display_data"
    }
   ],
   "execution_count": 15
  },
  {
   "metadata": {
    "ExecuteTime": {
     "end_time": "2024-07-19T19:44:05.196205Z",
     "start_time": "2024-07-19T19:44:05.168886Z"
    }
   },
   "cell_type": "code",
   "source": [
    "print('Combined Analysis A')\n",
    "for key, value in combined_analysis_a.items():\n",
    "    print(key, value)\n",
    "    \n",
    "print('Combined Analysis B')\n",
    "for key, value in combined_analysis_b.items():\n",
    "    print(key, value)\n"
   ],
   "id": "a57a99ac85f4c72e",
   "outputs": [
    {
     "name": "stdout",
     "output_type": "stream",
     "text": [
      "Combined Analysis A\n",
      "character_dict {' ': 53115, '!': 166, '\"': 1840, '#': 90, '%': 11, '&': 1, \"'\": 970, '(': 119, ')': 119, '*': 1, '+': 8, ',': 2826, '-': 955, '.': 5205, '/': 6, '0': 153, '1': 277, '2': 132, '3': 86, '4': 69, '5': 92, '6': 68, '7': 49, '8': 43, '9': 111, ':': 139, ';': 77, '?': 329, 'A': 749, 'B': 585, 'C': 441, 'D': 303, 'E': 251, 'F': 313, 'G': 303, 'H': 676, 'I': 1179, 'J': 158, 'K': 77, 'L': 304, 'M': 600, 'N': 316, 'O': 264, 'P': 349, 'Q': 19, 'R': 245, 'S': 697, 'T': 1281, 'U': 67, 'V': 78, 'W': 480, 'X': 4, 'Y': 192, 'Z': 7, '[': 3, ']': 3, 'a': 22005, 'b': 4032, 'c': 7495, 'd': 11392, 'e': 35866, 'f': 6097, 'g': 5558, 'h': 16107, 'i': 18763, 'j': 246, 'k': 2199, 'l': 11425, 'm': 6604, 'n': 18807, 'o': 21260, 'p': 5093, 'q': 283, 'r': 17040, 's': 17669, 't': 24808, 'u': 8014, 'v': 2739, 'w': 5556, 'x': 508, 'y': 5126, 'z': 175}\n",
      "characters 351868\n",
      "clean_characters 286741\n",
      "clean_chars_per_char 0.8149107051507952\n",
      "lines 12187\n",
      "points 7651948\n",
      "points_per_char 21.746643627724033\n",
      "points_per_clean_char 26.685922138794243\n",
      "spaces 53115\n",
      "spaces_per_char 0.15095149317357645\n",
      "width 63809067\n",
      "width_per_char 181.34376243363988\n",
      "width_per_clean_char 222.53206552254474\n",
      "Combined Analysis B\n",
      "character_dict {'0': 1514, '1': 1283, '2': 1367, '3': 1327, '4': 1316, '5': 1280, '6': 1268, '7': 1298, '8': 1262, '9': 1333, ' ': 10415, \"'\": 184, ',': 726, '.': 1019, 'B': 266, 'C': 988, 'F': 265, 'I': 761, 'R': 210, 'S': 447, 'T': 326, 'a': 4743, 'b': 1664, 'c': 1516, 'd': 2910, 'e': 8552, 'f': 1210, 'g': 1033, 'h': 2690, 'i': 4765, 'k': 407, 'l': 1735, 'm': 1714, 'n': 4207, 'o': 5042, 'p': 1550, 'q': 368, 'r': 3710, 's': 4644, 't': 5385, 'u': 2248, 'v': 786, 'w': 1185, 'y': 1478, 'P': 157, 'H': 93, 'A': 55, 'D': 50, 'E': 29, 'G': 60, 'J': 43, 'K': 1, 'L': 37, 'M': 24, 'N': 34, 'O': 32, 'U': 6, 'V': 34, 'W': 80, 'Y': 6, 'j': 115, 'x': 227, 'z': 238, '#': 215, '-': 200, '@': 320, 'Q': 34, 'Z': 5, '’': 6}\n",
      "characters 94498\n",
      "clean_characters 81954\n",
      "clean_chars_per_char 11.441040049012951\n",
      "lines 6128\n",
      "points 1546069\n",
      "points_per_char 219.50262620212084\n",
      "points_per_clean_char 248.35086241993363\n",
      "spaces 10415\n",
      "spaces_per_char 1.2797921214277992\n",
      "width 10114663\n",
      "width_per_char 1391.1695117465265\n",
      "width_per_clean_char 1579.1921968935462\n"
     ]
    }
   ],
   "execution_count": 16
  },
  {
   "metadata": {},
   "cell_type": "code",
   "outputs": [],
   "execution_count": null,
   "source": "",
   "id": "b32a9e764e1cf447"
  }
 ],
 "metadata": {
  "kernelspec": {
   "display_name": "Python 3",
   "language": "python",
   "name": "python3"
  },
  "language_info": {
   "codemirror_mode": {
    "name": "ipython",
    "version": 2
   },
   "file_extension": ".py",
   "mimetype": "text/x-python",
   "name": "python",
   "nbconvert_exporter": "python",
   "pygments_lexer": "ipython2",
   "version": "2.7.6"
  }
 },
 "nbformat": 4,
 "nbformat_minor": 5
}
