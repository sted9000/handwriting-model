{
 "cells": [
  {
   "cell_type": "code",
   "id": "initial_id",
   "metadata": {
    "collapsed": true,
    "ExecuteTime": {
     "end_time": "2024-07-19T01:07:31.805757Z",
     "start_time": "2024-07-19T01:07:31.150020Z"
    }
   },
   "source": [
    "import os\n",
    "\n",
    "from data.utils import unpickle\n",
    "from matplotlib import pyplot as plt\n",
    "\n",
    "data_a_pth = '../prepared_data/fine_tune_7_18/lines'\n",
    "data_b_pth = '../prepared_data/jordan/lines'"
   ],
   "outputs": [
    {
     "name": "stderr",
     "output_type": "stream",
     "text": [
      "2024-07-18 21:07:31,707 - uim - INFO - Completed configuring logger()!\n",
      "2024-07-18 21:07:31,786 - uim.model.ink - INFO - Completed configuring logger()!\n",
      "2024-07-18 21:07:31,786 - uim.model.ink - INFO - Completed configuring logger()!\n"
     ]
    }
   ],
   "execution_count": 2
  },
  {
   "metadata": {
    "ExecuteTime": {
     "end_time": "2024-07-19T01:09:43.270498Z",
     "start_time": "2024-07-19T01:09:43.255359Z"
    }
   },
   "cell_type": "code",
   "source": [
    "\"\"\"\n",
    "Plot the first file from each dataset\n",
    "\"\"\"\n",
    "\n",
    "\n",
    "def plot_line(file):\n",
    "    file = unpickle(file)\n",
    "    transcript = file['transcript']\n",
    "    strokes = file['strokes']\n",
    "    for stroke in strokes:\n",
    "        x = [point[0] for point in stroke]\n",
    "        y = [point[1] for point in stroke]\n",
    "        # invert the y axis\n",
    "        y = [-i for i in y]\n",
    "        plt.plot(x, y)\n",
    "\n",
    "    # stretch the plot to match the aspect ratio of the text\n",
    "    plt.gca().set_aspect('equal', adjustable='box')\n",
    "    print(transcript)\n",
    "    return plt.show()"
   ],
   "id": "2d1ebee0dd9eda33",
   "outputs": [],
   "execution_count": 5
  },
  {
   "metadata": {},
   "cell_type": "code",
   "outputs": [],
   "execution_count": null,
   "source": "\"\"\"\n",
   "id": "3c3c2775dd87f78c"
  },
  {
   "metadata": {},
   "cell_type": "code",
   "outputs": [],
   "execution_count": null,
   "source": [
    "\"\"\"\n",
    "Get the first file from each dataset\n",
    "\"\"\"\n",
    "\n",
    "data_a = os.listdir(data_a_pth)[0]\n",
    "data_b = os.listdir(data_b_pth)[0]"
   ],
   "id": "55cc37b6a6693c2b"
  }
 ],
 "metadata": {
  "kernelspec": {
   "display_name": "Python 3",
   "language": "python",
   "name": "python3"
  },
  "language_info": {
   "codemirror_mode": {
    "name": "ipython",
    "version": 2
   },
   "file_extension": ".py",
   "mimetype": "text/x-python",
   "name": "python",
   "nbconvert_exporter": "python",
   "pygments_lexer": "ipython2",
   "version": "2.7.6"
  }
 },
 "nbformat": 4,
 "nbformat_minor": 5
}
