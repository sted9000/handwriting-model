{
 "cells": [
  {
   "cell_type": "code",
   "id": "initial_id",
   "metadata": {
    "collapsed": true,
    "ExecuteTime": {
     "end_time": "2024-07-24T13:09:18.126780Z",
     "start_time": "2024-07-24T13:09:18.123981Z"
    }
   },
   "source": "# Figure out what is wrong with Jordan's dataset",
   "outputs": [],
   "execution_count": 1
  },
  {
   "metadata": {
    "ExecuteTime": {
     "end_time": "2024-07-24T16:22:56.006486Z",
     "start_time": "2024-07-24T16:22:54.180101Z"
    }
   },
   "cell_type": "code",
   "source": [
    "import os\n",
    "import pickle\n",
    "\n",
    "# Iterate through the files in '../prepared_data/jordan/lines'\n",
    "# and print the number of points in each line\n",
    "# Note the files are pkl files and the lines are in the 'strokes' key\n",
    "\n",
    "data_path = '../prepared_data/iam_no_max/lines'\n",
    "filenames = os.listdir(data_path)\n",
    "print(f'Number of files: {len(filenames)}')\n",
    "points_over_1000 = 0\n",
    "max_seq_len = 0\n",
    "for filename in filenames:\n",
    "    with open(f'{data_path}/{filename}', 'rb') as f:\n",
    "        line = pickle.load(f)\n",
    "        points = 0\n",
    "        for stroke in line['strokes']:\n",
    "            points += len(stroke)\n",
    "        if points > 1000:\n",
    "            points_over_1000 += 1\n",
    "        max_seq_len = max(max_seq_len, points)\n",
    "\n",
    "print(f'Number of points over 1000: {points_over_1000}')\n",
    "print(f'Percentage of points over 1000: {points_over_1000 / len(filenames) * 100:.2f}%')\n",
    "print(f'Maximum sequence length: {max_seq_len}')\n",
    "                \n",
    "                \n"
   ],
   "id": "d8c6d9f82bf14ce",
   "outputs": [
    {
     "name": "stdout",
     "output_type": "stream",
     "text": [
      "Number of files: 12187\n",
      "Number of points over 1000: 396\n",
      "Percentage of points over 1000: 3.25%\n",
      "Maximum sequence length: 1940\n"
     ]
    }
   ],
   "execution_count": 13
  },
  {
   "metadata": {},
   "cell_type": "code",
   "outputs": [],
   "execution_count": null,
   "source": "",
   "id": "207e177aa095bc00"
  }
 ],
 "metadata": {
  "kernelspec": {
   "display_name": "Python 3",
   "language": "python",
   "name": "python3"
  },
  "language_info": {
   "codemirror_mode": {
    "name": "ipython",
    "version": 2
   },
   "file_extension": ".py",
   "mimetype": "text/x-python",
   "name": "python",
   "nbconvert_exporter": "python",
   "pygments_lexer": "ipython2",
   "version": "2.7.6"
  }
 },
 "nbformat": 4,
 "nbformat_minor": 5
}
