{
 "cells": [
  {
   "cell_type": "code",
   "id": "initial_id",
   "metadata": {
    "collapsed": true,
    "ExecuteTime": {
     "end_time": "2024-07-26T17:24:58.105601Z",
     "start_time": "2024-07-26T17:24:58.096747Z"
    }
   },
   "source": [
    "import os\n",
    "\n",
    "from data.utils import unpickle\n",
    "\n",
    "# datasets to analyze\n",
    "iam = {'name': 'IAM', 'path': '../data/data/iam/lines'}\n",
    "other = {'name': 'Jordan Chumba', 'path': '../data/data/chumba_v2_jordan/lines'}"
   ],
   "outputs": [],
   "execution_count": 19
  },
  {
   "metadata": {
    "ExecuteTime": {
     "end_time": "2024-07-26T17:26:38.948304Z",
     "start_time": "2024-07-26T17:26:36.863062Z"
    }
   },
   "cell_type": "code",
   "source": [
    "# function to see if the last point in a stroke is the same as the second to last\n",
    "def end_of_stroke(s):\n",
    "    same_end_of_stroke_counter = 0\n",
    "    for stroke in s:\n",
    "        if len(stroke) < 2:\n",
    "            continue\n",
    "        if stroke[-1] == stroke[-2]:\n",
    "            same_end_of_stroke_counter += 1\n",
    "            \n",
    "    return same_end_of_stroke_counter\n",
    "\n",
    "for dataset in [iam, other]:\n",
    "    total_strokes = 0\n",
    "    total_end_of_stroke = 0\n",
    "    for line_file in os.listdir(dataset['path']):\n",
    "        line = unpickle(os.path.join(dataset['path'], line_file))\n",
    "        strokes = line['strokes']\n",
    "        total_strokes += len(strokes)\n",
    "        total_end_of_stroke += end_of_stroke(strokes)\n",
    "        \n",
    "    print(f\"Dataset: {dataset['name']}'s strokes end with duplicates {(total_end_of_stroke/total_strokes) * 100:.2f}% ({total_end_of_stroke}/{total_strokes}) of the time.\")"
   ],
   "id": "eb325754e206c757",
   "outputs": [
    {
     "name": "stdout",
     "output_type": "stream",
     "text": [
      "Dataset: IAM's strokes end with duplicates 1.23% (3727/303624) of the time.\n",
      "Dataset: Jordan Chumba's strokes end with duplicates 100.00% (5123/5123) of the time.\n"
     ]
    }
   ],
   "execution_count": 23
  },
  {
   "metadata": {},
   "cell_type": "code",
   "outputs": [],
   "execution_count": null,
   "source": "",
   "id": "437ed4e58c757544"
  }
 ],
 "metadata": {
  "kernelspec": {
   "display_name": "Python 3",
   "language": "python",
   "name": "python3"
  },
  "language_info": {
   "codemirror_mode": {
    "name": "ipython",
    "version": 2
   },
   "file_extension": ".py",
   "mimetype": "text/x-python",
   "name": "python",
   "nbconvert_exporter": "python",
   "pygments_lexer": "ipython2",
   "version": "2.7.6"
  }
 },
 "nbformat": 4,
 "nbformat_minor": 5
}
